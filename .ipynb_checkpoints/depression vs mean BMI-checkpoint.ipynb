{
 "cells": [
  {
   "cell_type": "code",
   "execution_count": 3,
   "metadata": {},
   "outputs": [
    {
     "name": "stderr",
     "output_type": "stream",
     "text": [
      "C:\\Users\\smartestpersonalive\\Anaconda3\\lib\\site-packages\\statsmodels\\tools\\_testing.py:19: FutureWarning: pandas.util.testing is deprecated. Use the functions in the public API at pandas.testing instead.\n",
      "  import pandas.util.testing as tm\n"
     ]
    }
   ],
   "source": [
    "import pandas as pd\n",
    "import numpy as np\n",
    "import seaborn as sns\n",
    "import matplotlib.pyplot as plt\n",
    "\n",
    "%matplotlib inline"
   ]
  },
  {
   "cell_type": "code",
   "execution_count": 4,
   "metadata": {},
   "outputs": [],
   "source": [
    "# import the data\n",
    "mean_BMI = pd.read_csv(\"Mean BMI among adults.csv\")\n",
    "depression = pd.read_csv(\"Population based prevalence of depression.csv\")"
   ]
  },
  {
   "cell_type": "code",
   "execution_count": 130,
   "metadata": {},
   "outputs": [
    {
     "name": "stdout",
     "output_type": "stream",
     "text": [
      "(198, 127)\n",
      "(183, 2)\n"
     ]
    }
   ],
   "source": [
    "print(mean_BMI.shape)\n",
    "print(depression.shape)"
   ]
  },
  {
   "cell_type": "code",
   "execution_count": 5,
   "metadata": {},
   "outputs": [],
   "source": [
    "# Take only the columns we need\n",
    "mean_BMI_df = mean_BMI[['Unnamed: 0','2015','2015.1','2015.2']]"
   ]
  },
  {
   "cell_type": "code",
   "execution_count": 6,
   "metadata": {},
   "outputs": [
    {
     "data": {
      "text/html": [
       "<div>\n",
       "<style scoped>\n",
       "    .dataframe tbody tr th:only-of-type {\n",
       "        vertical-align: middle;\n",
       "    }\n",
       "\n",
       "    .dataframe tbody tr th {\n",
       "        vertical-align: top;\n",
       "    }\n",
       "\n",
       "    .dataframe thead th {\n",
       "        text-align: right;\n",
       "    }\n",
       "</style>\n",
       "<table border=\"1\" class=\"dataframe\">\n",
       "  <thead>\n",
       "    <tr style=\"text-align: right;\">\n",
       "      <th></th>\n",
       "      <th>Unnamed: 0</th>\n",
       "      <th>2015</th>\n",
       "      <th>2015.1</th>\n",
       "      <th>2015.2</th>\n",
       "    </tr>\n",
       "  </thead>\n",
       "  <tbody>\n",
       "    <tr>\n",
       "      <th>0</th>\n",
       "      <td>NaN</td>\n",
       "      <td>Mean BMI (kg/m&amp;amp;#xb2,) (crude estimate)</td>\n",
       "      <td>Mean BMI (kg/m&amp;amp;#xb2,) (crude estimate)</td>\n",
       "      <td>Mean BMI (kg/m&amp;amp;#xb2,) (crude estimate)</td>\n",
       "    </tr>\n",
       "    <tr>\n",
       "      <th>1</th>\n",
       "      <td>NaN</td>\n",
       "      <td>18+  years</td>\n",
       "      <td>18+  years</td>\n",
       "      <td>18+  years</td>\n",
       "    </tr>\n",
       "    <tr>\n",
       "      <th>2</th>\n",
       "      <td>Country</td>\n",
       "      <td>Both sexes</td>\n",
       "      <td>Male</td>\n",
       "      <td>Female</td>\n",
       "    </tr>\n",
       "    <tr>\n",
       "      <th>3</th>\n",
       "      <td>Afghanistan</td>\n",
       "      <td>22.9 [21.6-24.3]</td>\n",
       "      <td>22.3 [19.8-24.8]</td>\n",
       "      <td>23.6 [22.7-24.5]</td>\n",
       "    </tr>\n",
       "    <tr>\n",
       "      <th>4</th>\n",
       "      <td>Albania</td>\n",
       "      <td>26.7 [25.9-27.5]</td>\n",
       "      <td>26.9 [25.8-28.0]</td>\n",
       "      <td>26.4 [25.2-27.7]</td>\n",
       "    </tr>\n",
       "  </tbody>\n",
       "</table>\n",
       "</div>"
      ],
      "text/plain": [
       "    Unnamed: 0                                         2015  \\\n",
       "0          NaN   Mean BMI (kg/m&amp;#xb2,) (crude estimate)   \n",
       "1          NaN                                   18+  years   \n",
       "2      Country                                   Both sexes   \n",
       "3  Afghanistan                             22.9 [21.6-24.3]   \n",
       "4      Albania                             26.7 [25.9-27.5]   \n",
       "\n",
       "                                        2015.1  \\\n",
       "0   Mean BMI (kg/m&amp;#xb2,) (crude estimate)   \n",
       "1                                   18+  years   \n",
       "2                                         Male   \n",
       "3                             22.3 [19.8-24.8]   \n",
       "4                             26.9 [25.8-28.0]   \n",
       "\n",
       "                                        2015.2  \n",
       "0   Mean BMI (kg/m&amp;#xb2,) (crude estimate)  \n",
       "1                                   18+  years  \n",
       "2                                       Female  \n",
       "3                             23.6 [22.7-24.5]  \n",
       "4                             26.4 [25.2-27.7]  "
      ]
     },
     "execution_count": 6,
     "metadata": {},
     "output_type": "execute_result"
    }
   ],
   "source": [
    "mean_BMI_df.head()"
   ]
  },
  {
   "cell_type": "code",
   "execution_count": 7,
   "metadata": {},
   "outputs": [
    {
     "data": {
      "text/plain": [
       "Index(['Unnamed: 0', '2015', '2015.1', '2015.2'], dtype='object')"
      ]
     },
     "execution_count": 7,
     "metadata": {},
     "output_type": "execute_result"
    }
   ],
   "source": [
    "mean_BMI_df.columns"
   ]
  },
  {
   "cell_type": "code",
   "execution_count": 8,
   "metadata": {},
   "outputs": [],
   "source": [
    "# rename columns \n",
    "mean_BMI_df_columnNames = ['Country','mean_BMI_both_sexes','mean_BMI_male','mean_BMI_female']\n",
    "mean_BMI_df.columns = mean_BMI_df_columnNames"
   ]
  },
  {
   "cell_type": "code",
   "execution_count": 9,
   "metadata": {},
   "outputs": [
    {
     "name": "stderr",
     "output_type": "stream",
     "text": [
      "C:\\Users\\smartestpersonalive\\Anaconda3\\lib\\site-packages\\pandas\\core\\frame.py:3997: SettingWithCopyWarning: \n",
      "A value is trying to be set on a copy of a slice from a DataFrame\n",
      "\n",
      "See the caveats in the documentation: https://pandas.pydata.org/pandas-docs/stable/user_guide/indexing.html#returning-a-view-versus-a-copy\n",
      "  errors=errors,\n"
     ]
    },
    {
     "data": {
      "text/html": [
       "<div>\n",
       "<style scoped>\n",
       "    .dataframe tbody tr th:only-of-type {\n",
       "        vertical-align: middle;\n",
       "    }\n",
       "\n",
       "    .dataframe tbody tr th {\n",
       "        vertical-align: top;\n",
       "    }\n",
       "\n",
       "    .dataframe thead th {\n",
       "        text-align: right;\n",
       "    }\n",
       "</style>\n",
       "<table border=\"1\" class=\"dataframe\">\n",
       "  <thead>\n",
       "    <tr style=\"text-align: right;\">\n",
       "      <th></th>\n",
       "      <th>Country</th>\n",
       "      <th>mean_BMI_both_sexes</th>\n",
       "      <th>mean_BMI_male</th>\n",
       "      <th>mean_BMI_female</th>\n",
       "    </tr>\n",
       "  </thead>\n",
       "  <tbody>\n",
       "    <tr>\n",
       "      <th>3</th>\n",
       "      <td>Afghanistan</td>\n",
       "      <td>22.9 [21.6-24.3]</td>\n",
       "      <td>22.3 [19.8-24.8]</td>\n",
       "      <td>23.6 [22.7-24.5]</td>\n",
       "    </tr>\n",
       "    <tr>\n",
       "      <th>4</th>\n",
       "      <td>Albania</td>\n",
       "      <td>26.7 [25.9-27.5]</td>\n",
       "      <td>26.9 [25.8-28.0]</td>\n",
       "      <td>26.4 [25.2-27.7]</td>\n",
       "    </tr>\n",
       "    <tr>\n",
       "      <th>5</th>\n",
       "      <td>Algeria</td>\n",
       "      <td>25.5 [24.5-26.4]</td>\n",
       "      <td>24.6 [23.3-25.8]</td>\n",
       "      <td>26.4 [25.0-27.7]</td>\n",
       "    </tr>\n",
       "    <tr>\n",
       "      <th>6</th>\n",
       "      <td>Andorra</td>\n",
       "      <td>27.0 [25.0-29.1]</td>\n",
       "      <td>27.6 [25.2-30.1]</td>\n",
       "      <td>26.5 [23.1-29.8]</td>\n",
       "    </tr>\n",
       "    <tr>\n",
       "      <th>7</th>\n",
       "      <td>Angola</td>\n",
       "      <td>22.9 [20.7-25.2]</td>\n",
       "      <td>22.1 [19.4-24.7]</td>\n",
       "      <td>23.8 [20.2-27.3]</td>\n",
       "    </tr>\n",
       "  </tbody>\n",
       "</table>\n",
       "</div>"
      ],
      "text/plain": [
       "       Country mean_BMI_both_sexes     mean_BMI_male   mean_BMI_female\n",
       "3  Afghanistan    22.9 [21.6-24.3]  22.3 [19.8-24.8]  23.6 [22.7-24.5]\n",
       "4      Albania    26.7 [25.9-27.5]  26.9 [25.8-28.0]  26.4 [25.2-27.7]\n",
       "5      Algeria    25.5 [24.5-26.4]  24.6 [23.3-25.8]  26.4 [25.0-27.7]\n",
       "6      Andorra    27.0 [25.0-29.1]  27.6 [25.2-30.1]  26.5 [23.1-29.8]\n",
       "7       Angola    22.9 [20.7-25.2]  22.1 [19.4-24.7]  23.8 [20.2-27.3]"
      ]
     },
     "execution_count": 9,
     "metadata": {},
     "output_type": "execute_result"
    }
   ],
   "source": [
    "mean_BMI_df.drop([0,1,2] ,inplace=True)\n",
    "mean_BMI_df.head()"
   ]
  },
  {
   "cell_type": "code",
   "execution_count": 10,
   "metadata": {},
   "outputs": [],
   "source": [
    "mean_BMI_df.reset_index(inplace=True)\n"
   ]
  },
  {
   "cell_type": "code",
   "execution_count": 11,
   "metadata": {},
   "outputs": [
    {
     "name": "stderr",
     "output_type": "stream",
     "text": [
      "C:\\Users\\smartestpersonalive\\Anaconda3\\lib\\site-packages\\pandas\\core\\frame.py:3997: SettingWithCopyWarning: \n",
      "A value is trying to be set on a copy of a slice from a DataFrame\n",
      "\n",
      "See the caveats in the documentation: https://pandas.pydata.org/pandas-docs/stable/user_guide/indexing.html#returning-a-view-versus-a-copy\n",
      "  errors=errors,\n"
     ]
    }
   ],
   "source": [
    "mean_BMI_df.drop(['index'],axis=1,inplace=True)"
   ]
  },
  {
   "cell_type": "code",
   "execution_count": 12,
   "metadata": {},
   "outputs": [
    {
     "data": {
      "text/html": [
       "<div>\n",
       "<style scoped>\n",
       "    .dataframe tbody tr th:only-of-type {\n",
       "        vertical-align: middle;\n",
       "    }\n",
       "\n",
       "    .dataframe tbody tr th {\n",
       "        vertical-align: top;\n",
       "    }\n",
       "\n",
       "    .dataframe thead th {\n",
       "        text-align: right;\n",
       "    }\n",
       "</style>\n",
       "<table border=\"1\" class=\"dataframe\">\n",
       "  <thead>\n",
       "    <tr style=\"text-align: right;\">\n",
       "      <th></th>\n",
       "      <th>Country</th>\n",
       "      <th>mean_BMI_both_sexes</th>\n",
       "      <th>mean_BMI_male</th>\n",
       "      <th>mean_BMI_female</th>\n",
       "    </tr>\n",
       "  </thead>\n",
       "  <tbody>\n",
       "    <tr>\n",
       "      <th>0</th>\n",
       "      <td>Afghanistan</td>\n",
       "      <td>22.9 [21.6-24.3]</td>\n",
       "      <td>22.3 [19.8-24.8]</td>\n",
       "      <td>23.6 [22.7-24.5]</td>\n",
       "    </tr>\n",
       "    <tr>\n",
       "      <th>1</th>\n",
       "      <td>Albania</td>\n",
       "      <td>26.7 [25.9-27.5]</td>\n",
       "      <td>26.9 [25.8-28.0]</td>\n",
       "      <td>26.4 [25.2-27.7]</td>\n",
       "    </tr>\n",
       "    <tr>\n",
       "      <th>2</th>\n",
       "      <td>Algeria</td>\n",
       "      <td>25.5 [24.5-26.4]</td>\n",
       "      <td>24.6 [23.3-25.8]</td>\n",
       "      <td>26.4 [25.0-27.7]</td>\n",
       "    </tr>\n",
       "    <tr>\n",
       "      <th>3</th>\n",
       "      <td>Andorra</td>\n",
       "      <td>27.0 [25.0-29.1]</td>\n",
       "      <td>27.6 [25.2-30.1]</td>\n",
       "      <td>26.5 [23.1-29.8]</td>\n",
       "    </tr>\n",
       "    <tr>\n",
       "      <th>4</th>\n",
       "      <td>Angola</td>\n",
       "      <td>22.9 [20.7-25.2]</td>\n",
       "      <td>22.1 [19.4-24.7]</td>\n",
       "      <td>23.8 [20.2-27.3]</td>\n",
       "    </tr>\n",
       "  </tbody>\n",
       "</table>\n",
       "</div>"
      ],
      "text/plain": [
       "       Country mean_BMI_both_sexes     mean_BMI_male   mean_BMI_female\n",
       "0  Afghanistan    22.9 [21.6-24.3]  22.3 [19.8-24.8]  23.6 [22.7-24.5]\n",
       "1      Albania    26.7 [25.9-27.5]  26.9 [25.8-28.0]  26.4 [25.2-27.7]\n",
       "2      Algeria    25.5 [24.5-26.4]  24.6 [23.3-25.8]  26.4 [25.0-27.7]\n",
       "3      Andorra    27.0 [25.0-29.1]  27.6 [25.2-30.1]  26.5 [23.1-29.8]\n",
       "4       Angola    22.9 [20.7-25.2]  22.1 [19.4-24.7]  23.8 [20.2-27.3]"
      ]
     },
     "execution_count": 12,
     "metadata": {},
     "output_type": "execute_result"
    }
   ],
   "source": [
    "mean_BMI_df.head()"
   ]
  },
  {
   "cell_type": "code",
   "execution_count": null,
   "metadata": {},
   "outputs": [],
   "source": []
  },
  {
   "cell_type": "code",
   "execution_count": 13,
   "metadata": {},
   "outputs": [],
   "source": [
    "BMI_bothSex = [a.split(\" \")[0] for a in mean_BMI_df['mean_BMI_both_sexes']]\n",
    "BMI_male = [b.split(\" \")[0] for b in mean_BMI_df['mean_BMI_male']]\n",
    "BMI_female = [c.split(\" \")[0] for c in mean_BMI_df['mean_BMI_female']]\n"
   ]
  },
  {
   "cell_type": "code",
   "execution_count": 14,
   "metadata": {},
   "outputs": [
    {
     "name": "stdout",
     "output_type": "stream",
     "text": [
      "(195, 4)\n",
      "(191, 4)\n"
     ]
    }
   ],
   "source": [
    "meanBMI_cleaned = pd.DataFrame({\"Country\": mean_BMI_df['Country'],\n",
    "                               \"BMI_bothSexes\":BMI_bothSex,\n",
    "                               \"BMI_male\":BMI_male,\n",
    "                               \"BMI_female\":BMI_female})\n",
    "print(meanBMI_cleaned.shape)\n",
    "# Delete rows with no data\n",
    "meanBMI_cleaned = meanBMI_cleaned[~meanBMI_cleaned[\"BMI_bothSexes\"].isin(['No'])]\n",
    "\n",
    "# check if changes are made\n",
    "print(meanBMI_cleaned.shape)"
   ]
  },
  {
   "cell_type": "code",
   "execution_count": 15,
   "metadata": {},
   "outputs": [],
   "source": [
    "# change data types from object to floats\n",
    "meanBMI_cleaned[\"BMI_bothSexes\"] = meanBMI_cleaned[\"BMI_bothSexes\"].astype(\"float\")\n",
    "meanBMI_cleaned[\"BMI_male\"] = meanBMI_cleaned[\"BMI_male\"].astype(\"float\")\n",
    "meanBMI_cleaned[\"BMI_female\"] = meanBMI_cleaned[\"BMI_female\"].astype(\"float\")"
   ]
  },
  {
   "cell_type": "markdown",
   "metadata": {},
   "source": [
    "# meanBMI cleaned"
   ]
  },
  {
   "cell_type": "code",
   "execution_count": 16,
   "metadata": {},
   "outputs": [
    {
     "name": "stdout",
     "output_type": "stream",
     "text": [
      "Country           object\n",
      "BMI_bothSexes    float64\n",
      "BMI_male         float64\n",
      "BMI_female       float64\n",
      "dtype: object\n"
     ]
    },
    {
     "data": {
      "text/html": [
       "<div>\n",
       "<style scoped>\n",
       "    .dataframe tbody tr th:only-of-type {\n",
       "        vertical-align: middle;\n",
       "    }\n",
       "\n",
       "    .dataframe tbody tr th {\n",
       "        vertical-align: top;\n",
       "    }\n",
       "\n",
       "    .dataframe thead th {\n",
       "        text-align: right;\n",
       "    }\n",
       "</style>\n",
       "<table border=\"1\" class=\"dataframe\">\n",
       "  <thead>\n",
       "    <tr style=\"text-align: right;\">\n",
       "      <th></th>\n",
       "      <th>Country</th>\n",
       "      <th>BMI_bothSexes</th>\n",
       "      <th>BMI_male</th>\n",
       "      <th>BMI_female</th>\n",
       "    </tr>\n",
       "  </thead>\n",
       "  <tbody>\n",
       "    <tr>\n",
       "      <th>0</th>\n",
       "      <td>Afghanistan</td>\n",
       "      <td>22.9</td>\n",
       "      <td>22.3</td>\n",
       "      <td>23.6</td>\n",
       "    </tr>\n",
       "    <tr>\n",
       "      <th>1</th>\n",
       "      <td>Albania</td>\n",
       "      <td>26.7</td>\n",
       "      <td>26.9</td>\n",
       "      <td>26.4</td>\n",
       "    </tr>\n",
       "    <tr>\n",
       "      <th>2</th>\n",
       "      <td>Algeria</td>\n",
       "      <td>25.5</td>\n",
       "      <td>24.6</td>\n",
       "      <td>26.4</td>\n",
       "    </tr>\n",
       "    <tr>\n",
       "      <th>3</th>\n",
       "      <td>Andorra</td>\n",
       "      <td>27.0</td>\n",
       "      <td>27.6</td>\n",
       "      <td>26.5</td>\n",
       "    </tr>\n",
       "    <tr>\n",
       "      <th>4</th>\n",
       "      <td>Angola</td>\n",
       "      <td>22.9</td>\n",
       "      <td>22.1</td>\n",
       "      <td>23.8</td>\n",
       "    </tr>\n",
       "  </tbody>\n",
       "</table>\n",
       "</div>"
      ],
      "text/plain": [
       "       Country  BMI_bothSexes  BMI_male  BMI_female\n",
       "0  Afghanistan           22.9      22.3        23.6\n",
       "1      Albania           26.7      26.9        26.4\n",
       "2      Algeria           25.5      24.6        26.4\n",
       "3      Andorra           27.0      27.6        26.5\n",
       "4       Angola           22.9      22.1        23.8"
      ]
     },
     "execution_count": 16,
     "metadata": {},
     "output_type": "execute_result"
    }
   ],
   "source": [
    "print(meanBMI_cleaned.dtypes)\n",
    "meanBMI_cleaned.head()"
   ]
  },
  {
   "cell_type": "code",
   "execution_count": null,
   "metadata": {},
   "outputs": [],
   "source": []
  },
  {
   "cell_type": "code",
   "execution_count": 17,
   "metadata": {},
   "outputs": [],
   "source": [
    "depression_columnNames = ['Country','Estimated_depression']\n",
    "depression.columns = depression_columnNames"
   ]
  },
  {
   "cell_type": "code",
   "execution_count": 18,
   "metadata": {},
   "outputs": [],
   "source": [
    "depression.drop([0], axis=0,inplace=True)"
   ]
  },
  {
   "cell_type": "code",
   "execution_count": 19,
   "metadata": {},
   "outputs": [],
   "source": [
    "depression = depression.reset_index()"
   ]
  },
  {
   "cell_type": "code",
   "execution_count": 20,
   "metadata": {},
   "outputs": [],
   "source": [
    "depression.drop(['index'],axis=1,inplace=True)"
   ]
  },
  {
   "cell_type": "markdown",
   "metadata": {},
   "source": [
    "# Depression Cleaned"
   ]
  },
  {
   "cell_type": "code",
   "execution_count": 21,
   "metadata": {},
   "outputs": [],
   "source": [
    "depression_df = depression"
   ]
  },
  {
   "cell_type": "code",
   "execution_count": 22,
   "metadata": {},
   "outputs": [
    {
     "data": {
      "text/html": [
       "<div>\n",
       "<style scoped>\n",
       "    .dataframe tbody tr th:only-of-type {\n",
       "        vertical-align: middle;\n",
       "    }\n",
       "\n",
       "    .dataframe tbody tr th {\n",
       "        vertical-align: top;\n",
       "    }\n",
       "\n",
       "    .dataframe thead th {\n",
       "        text-align: right;\n",
       "    }\n",
       "</style>\n",
       "<table border=\"1\" class=\"dataframe\">\n",
       "  <thead>\n",
       "    <tr style=\"text-align: right;\">\n",
       "      <th></th>\n",
       "      <th>Country</th>\n",
       "      <th>Estimated_depression</th>\n",
       "    </tr>\n",
       "  </thead>\n",
       "  <tbody>\n",
       "    <tr>\n",
       "      <th>0</th>\n",
       "      <td>Afghanistan</td>\n",
       "      <td>3.3</td>\n",
       "    </tr>\n",
       "    <tr>\n",
       "      <th>1</th>\n",
       "      <td>Albania</td>\n",
       "      <td>4.8</td>\n",
       "    </tr>\n",
       "    <tr>\n",
       "      <th>2</th>\n",
       "      <td>Algeria</td>\n",
       "      <td>4.5</td>\n",
       "    </tr>\n",
       "    <tr>\n",
       "      <th>3</th>\n",
       "      <td>Angola</td>\n",
       "      <td>3.6</td>\n",
       "    </tr>\n",
       "    <tr>\n",
       "      <th>4</th>\n",
       "      <td>Antigua and Barbuda</td>\n",
       "      <td>5.1</td>\n",
       "    </tr>\n",
       "  </tbody>\n",
       "</table>\n",
       "</div>"
      ],
      "text/plain": [
       "               Country  Estimated_depression\n",
       "0          Afghanistan                   3.3\n",
       "1              Albania                   4.8\n",
       "2              Algeria                   4.5\n",
       "3               Angola                   3.6\n",
       "4  Antigua and Barbuda                   5.1"
      ]
     },
     "execution_count": 22,
     "metadata": {},
     "output_type": "execute_result"
    }
   ],
   "source": [
    "depression_df.head()"
   ]
  },
  {
   "cell_type": "code",
   "execution_count": 23,
   "metadata": {},
   "outputs": [],
   "source": [
    "# concat the two datasets\n",
    "depression_BMI = pd.concat([depression_df, meanBMI_cleaned])"
   ]
  },
  {
   "cell_type": "code",
   "execution_count": 24,
   "metadata": {},
   "outputs": [],
   "source": [
    "# group by country\n",
    "Country_group = depression_BMI.groupby(['Country']).sum()"
   ]
  },
  {
   "cell_type": "code",
   "execution_count": 25,
   "metadata": {},
   "outputs": [
    {
     "data": {
      "text/html": [
       "<div>\n",
       "<style scoped>\n",
       "    .dataframe tbody tr th:only-of-type {\n",
       "        vertical-align: middle;\n",
       "    }\n",
       "\n",
       "    .dataframe tbody tr th {\n",
       "        vertical-align: top;\n",
       "    }\n",
       "\n",
       "    .dataframe thead th {\n",
       "        text-align: right;\n",
       "    }\n",
       "</style>\n",
       "<table border=\"1\" class=\"dataframe\">\n",
       "  <thead>\n",
       "    <tr style=\"text-align: right;\">\n",
       "      <th></th>\n",
       "      <th>Estimated_depression</th>\n",
       "      <th>BMI_bothSexes</th>\n",
       "      <th>BMI_male</th>\n",
       "      <th>BMI_female</th>\n",
       "    </tr>\n",
       "    <tr>\n",
       "      <th>Country</th>\n",
       "      <th></th>\n",
       "      <th></th>\n",
       "      <th></th>\n",
       "      <th></th>\n",
       "    </tr>\n",
       "  </thead>\n",
       "  <tbody>\n",
       "    <tr>\n",
       "      <th>Afghanistan</th>\n",
       "      <td>3.3</td>\n",
       "      <td>22.9</td>\n",
       "      <td>22.3</td>\n",
       "      <td>23.6</td>\n",
       "    </tr>\n",
       "    <tr>\n",
       "      <th>Albania</th>\n",
       "      <td>4.8</td>\n",
       "      <td>26.7</td>\n",
       "      <td>26.9</td>\n",
       "      <td>26.4</td>\n",
       "    </tr>\n",
       "    <tr>\n",
       "      <th>Algeria</th>\n",
       "      <td>4.5</td>\n",
       "      <td>25.5</td>\n",
       "      <td>24.6</td>\n",
       "      <td>26.4</td>\n",
       "    </tr>\n",
       "    <tr>\n",
       "      <th>Andorra</th>\n",
       "      <td>0.0</td>\n",
       "      <td>27.0</td>\n",
       "      <td>27.6</td>\n",
       "      <td>26.5</td>\n",
       "    </tr>\n",
       "    <tr>\n",
       "      <th>Angola</th>\n",
       "      <td>3.6</td>\n",
       "      <td>22.9</td>\n",
       "      <td>22.1</td>\n",
       "      <td>23.8</td>\n",
       "    </tr>\n",
       "  </tbody>\n",
       "</table>\n",
       "</div>"
      ],
      "text/plain": [
       "             Estimated_depression  BMI_bothSexes  BMI_male  BMI_female\n",
       "Country                                                               \n",
       "Afghanistan                   3.3           22.9      22.3        23.6\n",
       "Albania                       4.8           26.7      26.9        26.4\n",
       "Algeria                       4.5           25.5      24.6        26.4\n",
       "Andorra                       0.0           27.0      27.6        26.5\n",
       "Angola                        3.6           22.9      22.1        23.8"
      ]
     },
     "execution_count": 25,
     "metadata": {},
     "output_type": "execute_result"
    }
   ],
   "source": [
    "Country_group.head()"
   ]
  },
  {
   "cell_type": "code",
   "execution_count": 26,
   "metadata": {},
   "outputs": [],
   "source": [
    "not_in_BMI= Country_group.loc[Country_group['BMI_bothSexes'] == 0,:].index\n",
    "not_in_depression = Country_group.loc[Country_group['Estimated_depression']==0,:].index"
   ]
  },
  {
   "cell_type": "code",
   "execution_count": 27,
   "metadata": {},
   "outputs": [
    {
     "data": {
      "text/plain": [
       "Index(['Andorra', 'Cook Islands', 'Dominica', 'Marshall Islands', 'Nauru',\n",
       "       'Niue', 'Palau', 'Saint Kitts and Nevis', 'Sudan (former)', 'Tuvalu'],\n",
       "      dtype='object', name='Country')"
      ]
     },
     "execution_count": 27,
     "metadata": {},
     "output_type": "execute_result"
    }
   ],
   "source": [
    "not_in_BMI\n",
    "not_in_depression"
   ]
  },
  {
   "cell_type": "code",
   "execution_count": 131,
   "metadata": {},
   "outputs": [
    {
     "data": {
      "text/plain": [
       "12"
      ]
     },
     "execution_count": 131,
     "metadata": {},
     "output_type": "execute_result"
    }
   ],
   "source": [
    "len(zero_data)"
   ]
  },
  {
   "cell_type": "code",
   "execution_count": 133,
   "metadata": {},
   "outputs": [
    {
     "name": "stdout",
     "output_type": "stream",
     "text": [
      "<class 'pandas.core.frame.DataFrame'>\n",
      "Index: 181 entries, Afghanistan to Zimbabwe\n",
      "Data columns (total 4 columns):\n",
      " #   Column                Non-Null Count  Dtype  \n",
      "---  ------                --------------  -----  \n",
      " 0   Estimated_depression  181 non-null    float64\n",
      " 1   BMI_bothSexes         181 non-null    float64\n",
      " 2   BMI_male              181 non-null    float64\n",
      " 3   BMI_female            181 non-null    float64\n",
      "dtypes: float64(4)\n",
      "memory usage: 12.1+ KB\n"
     ]
    }
   ],
   "source": [
    "Country_group.info()"
   ]
  },
  {
   "cell_type": "code",
   "execution_count": 28,
   "metadata": {},
   "outputs": [],
   "source": [
    "# Drop null data\n",
    "zero_data = not_in_BMI.append(not_in_depression)\n",
    "Country_group.drop(zero_data, axis=0,inplace=True)"
   ]
  },
  {
   "cell_type": "code",
   "execution_count": 129,
   "metadata": {
    "scrolled": true
   },
   "outputs": [
    {
     "data": {
      "image/png": "[encoded data removed]",
      "text/plain": [
       "<Figure size 1080x864 with 1 Axes>"
      ]
     },
     "metadata": {},
     "output_type": "display_data"
    }
   ],
   "source": [
    "width=15\n",
    "height = 12\n",
    "plt.figure(figsize = (width,height))\n",
    "sns.set_style('darkgrid')\n",
    "total_BMI_plot = sns.regplot(x='Estimated_depression', y='BMI_bothSexes', data=Country_group)\n",
    "\n",
    "total_BMI_plot.set_xlabel(\"Prevalence of Depression\", fontsize = 20)\n",
    "total_BMI_plot.set_ylabel(\"Total Mean BMI\", fontsize = 20)\n",
    "total_BMI_plot.tick_params(labelsize=15)\n",
    "\n",
    "plt.show()\n",
    "total_BMI_plot.get_figure().savefig(\"Depression vs Total BMI.png\")"
   ]
  },
  {
   "cell_type": "markdown",
   "metadata": {},
   "source": [
    "This plot shows the relationship between Prevalence of Depression (predictor variable) and the Mean BMI for each country, which is our target variable. We chose our target variable to be the mean BMI because this would be the outcome we are trying to predict. \n",
    "\n",
    "From this scatterplot, we can see that as the Prevalence of Depression increases, the mean BMI increases as well. This scatterplot gives as an initial indication that there is a positive linear relationship between depression levels and BMI ratings.  "
   ]
  },
  {
   "cell_type": "code",
   "execution_count": 116,
   "metadata": {},
   "outputs": [
    {
     "data": {
      "image/png": "[encoded data removed]",
      "text/plain": [
       "<Figure size 432x288 with 1 Axes>"
      ]
     },
     "metadata": {},
     "output_type": "display_data"
    }
   ],
   "source": [
    "sns.set_style(\"whitegrid\")\n",
    "residual_plot = sns.residplot(Country_group['Estimated_depression'], Country_group['BMI_bothSexes'])\n",
    "residual_plot.get_figure().savefig(\"residual plot.png\")\n"
   ]
  },
  {
   "cell_type": "markdown",
   "metadata": {},
   "source": [
    "* the residuals are not randomly spread out around the x-axis, so we decided to use a multiple linear regression model for this data. "
   ]
  },
  {
   "cell_type": "code",
   "execution_count": null,
   "metadata": {},
   "outputs": [],
   "source": []
  },
  {
   "cell_type": "code",
   "execution_count": 106,
   "metadata": {},
   "outputs": [
    {
     "data": {
      "image/png": "[encoded data removed]",
      "text/plain": [
       "<Figure size 1080x864 with 1 Axes>"
      ]
     },
     "metadata": {
      "needs_background": "light"
     },
     "output_type": "display_data"
    },
    {
     "data": {
      "text/plain": [
       "<Figure size 432x288 with 0 Axes>"
      ]
     },
     "metadata": {},
     "output_type": "display_data"
    }
   ],
   "source": [
    "width=15\n",
    "height = 12\n",
    "plt.figure(figsize = (width,height))\n",
    "\n",
    "sns.regplot(x='Estimated_depression', y='BMI_male', data=Country_group)\n",
    "plt.xlabel('Prevalence of Depression (%)')\n",
    "plt.ylabel(\"Male Mean BMI\")\n",
    "plt.title(\"Depression vs Male BMI\")\n",
    "plt.show()\n",
    "plt.savefig(\"Depression vs Male BMI.png\")"
   ]
  },
  {
   "cell_type": "code",
   "execution_count": 107,
   "metadata": {},
   "outputs": [
    {
     "data": {
      "image/png": "[encoded data removed]",
      "text/plain": [
       "<Figure size 1080x864 with 1 Axes>"
      ]
     },
     "metadata": {
      "needs_background": "light"
     },
     "output_type": "display_data"
    },
    {
     "data": {
      "text/plain": [
       "<Figure size 432x288 with 0 Axes>"
      ]
     },
     "metadata": {},
     "output_type": "display_data"
    }
   ],
   "source": [
    "width=15\n",
    "height = 12\n",
    "plt.figure(figsize = (width,height))\n",
    "\n",
    "sns.regplot(x='Estimated_depression', y='BMI_female', data=Country_group)\n",
    "plt.xlabel('Prevalence of Depression (%)')\n",
    "plt.ylabel(\"Female Mean BMI\")\n",
    "\n",
    "# plt.title(\"Depression vs Female BMI\")\n",
    "plt.show()\n",
    "plt.savefig(\"Depression vs Female BMI.png\")"
   ]
  },
  {
   "cell_type": "code",
   "execution_count": null,
   "metadata": {},
   "outputs": [],
   "source": []
  },
  {
   "cell_type": "code",
   "execution_count": null,
   "metadata": {},
   "outputs": [],
   "source": []
  },
  {
   "cell_type": "code",
   "execution_count": null,
   "metadata": {},
   "outputs": [],
   "source": []
  },
  {
   "cell_type": "code",
   "execution_count": null,
   "metadata": {},
   "outputs": [],
   "source": []
  },
  {
   "cell_type": "code",
   "execution_count": 31,
   "metadata": {},
   "outputs": [
    {
     "data": {
      "text/html": [
       "<div>\n",
       "<style scoped>\n",
       "    .dataframe tbody tr th:only-of-type {\n",
       "        vertical-align: middle;\n",
       "    }\n",
       "\n",
       "    .dataframe tbody tr th {\n",
       "        vertical-align: top;\n",
       "    }\n",
       "\n",
       "    .dataframe thead th {\n",
       "        text-align: right;\n",
       "    }\n",
       "</style>\n",
       "<table border=\"1\" class=\"dataframe\">\n",
       "  <thead>\n",
       "    <tr style=\"text-align: right;\">\n",
       "      <th></th>\n",
       "      <th>Estimated_depression</th>\n",
       "      <th>BMI_bothSexes</th>\n",
       "      <th>BMI_male</th>\n",
       "      <th>BMI_female</th>\n",
       "    </tr>\n",
       "  </thead>\n",
       "  <tbody>\n",
       "    <tr>\n",
       "      <th>Estimated_depression</th>\n",
       "      <td>1.000000</td>\n",
       "      <td>0.406371</td>\n",
       "      <td>0.485215</td>\n",
       "      <td>0.294962</td>\n",
       "    </tr>\n",
       "    <tr>\n",
       "      <th>BMI_bothSexes</th>\n",
       "      <td>0.406371</td>\n",
       "      <td>1.000000</td>\n",
       "      <td>0.956656</td>\n",
       "      <td>0.958639</td>\n",
       "    </tr>\n",
       "    <tr>\n",
       "      <th>BMI_male</th>\n",
       "      <td>0.485215</td>\n",
       "      <td>0.956656</td>\n",
       "      <td>1.000000</td>\n",
       "      <td>0.834904</td>\n",
       "    </tr>\n",
       "    <tr>\n",
       "      <th>BMI_female</th>\n",
       "      <td>0.294962</td>\n",
       "      <td>0.958639</td>\n",
       "      <td>0.834904</td>\n",
       "      <td>1.000000</td>\n",
       "    </tr>\n",
       "  </tbody>\n",
       "</table>\n",
       "</div>"
      ],
      "text/plain": [
       "                      Estimated_depression  BMI_bothSexes  BMI_male  \\\n",
       "Estimated_depression              1.000000       0.406371  0.485215   \n",
       "BMI_bothSexes                     0.406371       1.000000  0.956656   \n",
       "BMI_male                          0.485215       0.956656  1.000000   \n",
       "BMI_female                        0.294962       0.958639  0.834904   \n",
       "\n",
       "                      BMI_female  \n",
       "Estimated_depression    0.294962  \n",
       "BMI_bothSexes           0.958639  \n",
       "BMI_male                0.834904  \n",
       "BMI_female              1.000000  "
      ]
     },
     "execution_count": 31,
     "metadata": {},
     "output_type": "execute_result"
    }
   ],
   "source": [
    "Country_group.corr()"
   ]
  },
  {
   "cell_type": "code",
   "execution_count": 32,
   "metadata": {},
   "outputs": [],
   "source": [
    "from scipy import stats"
   ]
  },
  {
   "cell_type": "code",
   "execution_count": 33,
   "metadata": {},
   "outputs": [
    {
     "name": "stdout",
     "output_type": "stream",
     "text": [
      "The p value is 1.3776380463975736e-08 and the pearson coefficient is 0.406\n"
     ]
    }
   ],
   "source": [
    "pearson_coef, p_value = stats.pearsonr(Country_group['Estimated_depression'],Country_group['BMI_bothSexes'])\n",
    "print(f\"The p value is {p_value} and the pearson coefficient is {round(pearson_coef,3)}\")"
   ]
  },
  {
   "cell_type": "markdown",
   "metadata": {},
   "source": [
    "The p-value is less than 0.001 which means there is strong evidence that the correlation between depression percentage and the mean BMI is statistically significant. The low P value suggests that this dataset provides strong evidence for us to reject the null hypothesis of depression not having any correlation with BMI. \n",
    "\n",
    "The pearson coefficient is at around 0.406 which represents a moderately weak positive relationship. We can say that the percentage of prevalence of depression can potentially be a good predictor of the average BMIs of a country.\n",
    "\n",
    "We can also see that with the positive correlation, if estimated depression increases, BMI of both sexes also increases"
   ]
  },
  {
   "cell_type": "code",
   "execution_count": 34,
   "metadata": {},
   "outputs": [
    {
     "name": "stdout",
     "output_type": "stream",
     "text": [
      "The p value is 4.437823250256462e-12 and the pearson coefficient is 0.485\n"
     ]
    }
   ],
   "source": [
    "pearson_coef_male, p_value_male = stats.pearsonr(Country_group['Estimated_depression'],Country_group['BMI_male'])\n",
    "print(f\"The p value is {p_value_male} and the pearson coefficient is {round(pearson_coef_male,3)}\")"
   ]
  },
  {
   "cell_type": "code",
   "execution_count": 35,
   "metadata": {},
   "outputs": [
    {
     "name": "stdout",
     "output_type": "stream",
     "text": [
      "The p value is 5.557155640428034e-05 and the pearson coefficient is 0.295\n"
     ]
    }
   ],
   "source": [
    "pearson_coef_female, p_value_female = stats.pearsonr(Country_group['Estimated_depression'],Country_group['BMI_female'])\n",
    "print(f\"The p value is {p_value_female} and the pearson coefficient is {round(pearson_coef_female,3)}\")"
   ]
  },
  {
   "cell_type": "markdown",
   "metadata": {},
   "source": [
    "# Prediction Model"
   ]
  },
  {
   "cell_type": "code",
   "execution_count": 36,
   "metadata": {},
   "outputs": [],
   "source": [
    "from sklearn.linear_model import LinearRegression"
   ]
  },
  {
   "cell_type": "code",
   "execution_count": 37,
   "metadata": {},
   "outputs": [
    {
     "data": {
      "text/plain": [
       "LinearRegression(copy_X=True, fit_intercept=True, n_jobs=None, normalize=False)"
      ]
     },
     "execution_count": 37,
     "metadata": {},
     "output_type": "execute_result"
    }
   ],
   "source": [
    "lm = LinearRegression()\n",
    "lm"
   ]
  },
  {
   "cell_type": "code",
   "execution_count": 38,
   "metadata": {},
   "outputs": [],
   "source": [
    "x = Country_group[['Estimated_depression']]\n",
    "y = Country_group['BMI_bothSexes']"
   ]
  },
  {
   "cell_type": "code",
   "execution_count": 39,
   "metadata": {},
   "outputs": [
    {
     "data": {
      "text/plain": [
       "LinearRegression(copy_X=True, fit_intercept=True, n_jobs=None, normalize=False)"
      ]
     },
     "execution_count": 39,
     "metadata": {},
     "output_type": "execute_result"
    }
   ],
   "source": [
    "lm.fit(x,y)"
   ]
  },
  {
   "cell_type": "code",
   "execution_count": 40,
   "metadata": {},
   "outputs": [
    {
     "data": {
      "text/plain": [
       "array([24.04478317, 26.08024872, 25.67315561, 24.45187628, 26.48734183,\n",
       "       25.94455102, 26.35164413, 27.57292346, 26.48734183, 25.80885332,\n",
       "       26.62303954, 26.08024872, 25.1303648 , 26.89443495, 27.16583035,\n",
       "       26.08024872, 25.53745791, 24.85896939, 25.2660625 , 25.53745791,\n",
       "       26.48734183, 25.94455102, 27.43722576, 24.99466709, 26.62303954,\n",
       "       24.45187628, 25.2660625 , 26.21594643, 24.18048087, 24.85896939,\n",
       "       25.94455102, 25.2660625 , 24.31617857, 26.35164413, 25.2660625 ,\n",
       "       25.94455102, 25.53745791, 24.85896939, 25.94455102, 26.48734183,\n",
       "       27.03013265, 26.48734183, 26.62303954, 24.72327169, 24.58757398,\n",
       "       24.72327169, 26.35164413, 26.48734183, 25.94455102, 25.80885332,\n",
       "       24.31617857, 25.53745791, 25.2660625 , 25.4017602 , 27.57292346,\n",
       "       25.2660625 , 25.94455102, 24.31617857, 27.16583035, 26.08024872,\n",
       "       25.4017602 , 24.85896939, 26.35164413, 26.62303954, 25.2660625 ,\n",
       "       27.30152806, 25.94455102, 24.58757398, 24.85896939, 24.99466709,\n",
       "       25.67315561, 25.4017602 , 24.99466709, 26.48734183, 25.1303648 ,\n",
       "       25.67315561, 24.58757398, 26.21594643, 24.58757398, 26.08024872,\n",
       "       25.80885332, 26.48734183, 26.08024872, 25.2660625 , 24.99466709,\n",
       "       25.53745791, 25.53745791, 23.77338776, 26.35164413, 25.1303648 ,\n",
       "       23.90908546, 26.21594643, 25.94455102, 26.08024872, 24.31617857,\n",
       "       25.67315561, 27.16583035, 26.35164413, 25.53745791, 25.1303648 ,\n",
       "       24.72327169, 24.58757398, 24.45187628, 26.48734183, 25.1303648 ,\n",
       "       25.53745791, 25.2660625 , 23.77338776, 25.2660625 , 26.08024872,\n",
       "       25.67315561, 25.1303648 , 24.58757398, 25.53745791, 23.90908546,\n",
       "       25.94455102, 26.89443495, 25.2660625 , 24.18048087, 24.85896939,\n",
       "       25.94455102, 25.94455102, 25.2660625 , 25.53745791, 23.63769006,\n",
       "       26.62303954, 26.08024872, 24.04478317, 26.48734183, 27.30152806,\n",
       "       26.48734183, 25.1303648 , 26.89443495, 26.35164413, 26.35164413,\n",
       "       27.03013265, 24.72327169, 26.21594643, 26.21594643, 23.90908546,\n",
       "       24.85896939, 25.67315561, 24.85896939, 26.35164413, 24.99466709,\n",
       "       24.85896939, 25.80885332, 26.48734183, 26.48734183, 23.50199235,\n",
       "       24.99466709, 25.80885332, 26.62303954, 25.1303648 , 26.08024872,\n",
       "       26.21594643, 26.35164413, 24.85896939, 24.72327169, 25.53745791,\n",
       "       23.63769006, 24.85896939, 23.90908546, 26.62303954, 26.21594643,\n",
       "       25.53745791, 25.2660625 , 25.80885332, 28.11571428, 26.48734183,\n",
       "       25.67315561, 25.1303648 , 27.57292346, 26.35164413, 25.2660625 ,\n",
       "       23.77338776, 25.2660625 , 24.99466709, 24.45187628, 24.99466709,\n",
       "       24.99466709])"
      ]
     },
     "execution_count": 40,
     "metadata": {},
     "output_type": "execute_result"
    }
   ],
   "source": [
    "# Output prediction \n",
    "Yhat = lm.predict(x)\n",
    "Yhat"
   ]
  },
  {
   "cell_type": "code",
   "execution_count": 41,
   "metadata": {},
   "outputs": [
    {
     "name": "stdout",
     "output_type": "stream",
     "text": [
      "19.566758942274426\n",
      "[1.35697704]\n",
      "y = [1.35697704]*BMI_bothSexes + 19.57\n"
     ]
    }
   ],
   "source": [
    "# intercept\n",
    "print(lm.intercept_)\n",
    "\n",
    "# slope\n",
    "print(lm.coef_)\n",
    "\n",
    "# print linear regression\n",
    "print(f\"y = {lm.coef_}*BMI_bothSexes + {round(lm.intercept_,2)}\")"
   ]
  },
  {
   "cell_type": "code",
   "execution_count": 42,
   "metadata": {},
   "outputs": [],
   "source": [
    "predictor = [['BMI_bothSexes','BMI_male','BMI_female']]"
   ]
  },
  {
   "cell_type": "markdown",
   "metadata": {},
   "source": [
    "# Simple Linear Regression Model"
   ]
  },
  {
   "cell_type": "code",
   "execution_count": 76,
   "metadata": {},
   "outputs": [
    {
     "name": "stdout",
     "output_type": "stream",
     "text": [
      "The R-square is 0.16513745902136645\n"
     ]
    }
   ],
   "source": [
    "lm.fit(x,y)\n",
    "# R-squared\n",
    "print(f\"The R-square is {lm.score(x,y)}\")"
   ]
  },
  {
   "cell_type": "code",
   "execution_count": 101,
   "metadata": {},
   "outputs": [],
   "source": [
    "Yhat = lm.predict(x)"
   ]
  },
  {
   "cell_type": "code",
   "execution_count": 103,
   "metadata": {},
   "outputs": [
    {
     "name": "stdout",
     "output_type": "stream",
     "text": [
      "The mean square error of mean BMI and predicted value is 4.2547455348080065\n"
     ]
    }
   ],
   "source": [
    "mse = mean_squared_error(Country_group['BMI_bothSexes'],Yhat)\n",
    "print(f\"The mean square error of mean BMI and predicted value is {mse}\")"
   ]
  },
  {
   "cell_type": "markdown",
   "metadata": {},
   "source": [
    "# Polynomial Fit"
   ]
  },
  {
   "cell_type": "code",
   "execution_count": 99,
   "metadata": {},
   "outputs": [
    {
     "data": {
      "text/plain": [
       "Country\n",
       "Afghanistan            3.3\n",
       "Albania                4.8\n",
       "Algeria                4.5\n",
       "Angola                 3.6\n",
       "Antigua and Barbuda    5.1\n",
       "Name: Estimated_depression, dtype: float64"
      ]
     },
     "execution_count": 99,
     "metadata": {},
     "output_type": "execute_result"
    }
   ],
   "source": [
    "X = Country_group['Estimated_depression']\n",
    "X.head()"
   ]
  },
  {
   "cell_type": "code",
   "execution_count": 100,
   "metadata": {},
   "outputs": [
    {
     "data": {
      "text/plain": [
       "Country\n",
       "Afghanistan            22.9\n",
       "Albania                26.7\n",
       "Algeria                25.5\n",
       "Angola                 22.9\n",
       "Antigua and Barbuda    26.6\n",
       "Name: BMI_bothSexes, dtype: float64"
      ]
     },
     "execution_count": 100,
     "metadata": {},
     "output_type": "execute_result"
    }
   ],
   "source": [
    "y.head()"
   ]
  },
  {
   "cell_type": "code",
   "execution_count": 143,
   "metadata": {},
   "outputs": [
    {
     "name": "stdout",
     "output_type": "stream",
     "text": [
      "          9         8         7         6        5        4        3\n",
      "-0.09573 x + 3.234 x - 45.58 x + 337.4 x - 1287 x + 1269 x + 9662 x\n",
      "             2\n",
      " - 4.38e+04 x + 7.601e+04 x - 5.022e+04\n"
     ]
    }
   ],
   "source": [
    "# Fit the polynomial to cubic\n",
    "f = np.polyfit(X,y,9)\n",
    "p = np.poly1d(f)\n",
    "print(p)"
   ]
  },
  {
   "cell_type": "code",
   "execution_count": 139,
   "metadata": {},
   "outputs": [],
   "source": [
    "from sklearn.metrics import r2_score"
   ]
  },
  {
   "cell_type": "code",
   "execution_count": 144,
   "metadata": {},
   "outputs": [
    {
     "name": "stdout",
     "output_type": "stream",
     "text": [
      "The R-squared value is: 0.2934981734446771\n"
     ]
    }
   ],
   "source": [
    "r_squared = r2_score(y,p(X))\n",
    "print(f\"The R-squared value is: {r_squared}\")"
   ]
  },
  {
   "cell_type": "code",
   "execution_count": 145,
   "metadata": {},
   "outputs": [],
   "source": [
    "from sklearn.metrics import mean_squared_error"
   ]
  },
  {
   "cell_type": "code",
   "execution_count": 146,
   "metadata": {},
   "outputs": [
    {
     "data": {
      "text/plain": [
       "3.600575357407121"
      ]
     },
     "execution_count": 146,
     "metadata": {},
     "output_type": "execute_result"
    }
   ],
   "source": [
    "# MSE\n",
    "mean_squared_error(Country_group['BMI_bothSexes'],p(x))"
   ]
  },
  {
   "cell_type": "markdown",
   "metadata": {},
   "source": [
    "We find that we can better predict the model if we used Polynomial fit instead of linear regression because we calculated a higher r-squared value with the polynomial model (27.00%) than the linear model (16.51%). Even with the Polynomial fit model, the R-squared value is too low for us to confidently predict the variation of mean BMI with depression percentage of surveyed countries\n",
    "\n",
    "Even though we calculated a low p-value that indicated depression and mean BMI to be statistically significant, the independent variable (prevalence of depression) does not account for much of the mean of the dependent variable (mean_BMI)"
   ]
  },
  {
   "cell_type": "markdown",
   "metadata": {},
   "source": [
    "# Bins"
   ]
  },
  {
   "cell_type": "code",
   "execution_count": 152,
   "metadata": {},
   "outputs": [],
   "source": [
    "bins = np.linspace(min(Country_group['Estimated_depression']),max(Country_group['Estimated_depression']),4)"
   ]
  },
  {
   "cell_type": "markdown",
   "metadata": {},
   "source": [
    "Our dataset for \"Estimated_depression\"] has values ranging from 2.9% to 6.3% with 31 unique values. With this analysis, we want to find out the BMI difference between Countries with higher, medium, and lower depression percentages and to do that, we sliced our dataset into 3 bins of equal size using numpy's linspace function"
   ]
  },
  {
   "cell_type": "code",
   "execution_count": 153,
   "metadata": {},
   "outputs": [
    {
     "data": {
      "text/html": [
       "<div>\n",
       "<style scoped>\n",
       "    .dataframe tbody tr th:only-of-type {\n",
       "        vertical-align: middle;\n",
       "    }\n",
       "\n",
       "    .dataframe tbody tr th {\n",
       "        vertical-align: top;\n",
       "    }\n",
       "\n",
       "    .dataframe thead th {\n",
       "        text-align: right;\n",
       "    }\n",
       "</style>\n",
       "<table border=\"1\" class=\"dataframe\">\n",
       "  <thead>\n",
       "    <tr style=\"text-align: right;\">\n",
       "      <th></th>\n",
       "      <th>Estimated_depression</th>\n",
       "      <th>BMI_bothSexes</th>\n",
       "      <th>BMI_male</th>\n",
       "      <th>BMI_female</th>\n",
       "      <th>depressionBins</th>\n",
       "    </tr>\n",
       "    <tr>\n",
       "      <th>Country</th>\n",
       "      <th></th>\n",
       "      <th></th>\n",
       "      <th></th>\n",
       "      <th></th>\n",
       "      <th></th>\n",
       "    </tr>\n",
       "  </thead>\n",
       "  <tbody>\n",
       "    <tr>\n",
       "      <th>Afghanistan</th>\n",
       "      <td>3.3</td>\n",
       "      <td>22.9</td>\n",
       "      <td>22.3</td>\n",
       "      <td>23.6</td>\n",
       "      <td>Low</td>\n",
       "    </tr>\n",
       "    <tr>\n",
       "      <th>Albania</th>\n",
       "      <td>4.8</td>\n",
       "      <td>26.7</td>\n",
       "      <td>26.9</td>\n",
       "      <td>26.4</td>\n",
       "      <td>Medium</td>\n",
       "    </tr>\n",
       "    <tr>\n",
       "      <th>Algeria</th>\n",
       "      <td>4.5</td>\n",
       "      <td>25.5</td>\n",
       "      <td>24.6</td>\n",
       "      <td>26.4</td>\n",
       "      <td>Medium</td>\n",
       "    </tr>\n",
       "    <tr>\n",
       "      <th>Angola</th>\n",
       "      <td>3.6</td>\n",
       "      <td>22.9</td>\n",
       "      <td>22.1</td>\n",
       "      <td>23.8</td>\n",
       "      <td>Low</td>\n",
       "    </tr>\n",
       "    <tr>\n",
       "      <th>Antigua and Barbuda</th>\n",
       "      <td>5.1</td>\n",
       "      <td>26.6</td>\n",
       "      <td>25.6</td>\n",
       "      <td>27.7</td>\n",
       "      <td>Medium</td>\n",
       "    </tr>\n",
       "  </tbody>\n",
       "</table>\n",
       "</div>"
      ],
      "text/plain": [
       "                     Estimated_depression  BMI_bothSexes  BMI_male  \\\n",
       "Country                                                              \n",
       "Afghanistan                           3.3           22.9      22.3   \n",
       "Albania                               4.8           26.7      26.9   \n",
       "Algeria                               4.5           25.5      24.6   \n",
       "Angola                                3.6           22.9      22.1   \n",
       "Antigua and Barbuda                   5.1           26.6      25.6   \n",
       "\n",
       "                     BMI_female depressionBins  \n",
       "Country                                         \n",
       "Afghanistan                23.6            Low  \n",
       "Albania                    26.4         Medium  \n",
       "Algeria                    26.4         Medium  \n",
       "Angola                     23.8            Low  \n",
       "Antigua and Barbuda        27.7         Medium  "
      ]
     },
     "execution_count": 153,
     "metadata": {},
     "output_type": "execute_result"
    }
   ],
   "source": [
    "# Set group names\n",
    "BMIGroup_names = ['Low', \"Medium\", 'High']\n",
    "\n",
    "Country_group['depressionBins'] = pd.cut(Country_group['Estimated_depression'],bins,labels=BMIGroup_names,include_lowest=True)\n",
    "Country_group.head()"
   ]
  },
  {
   "cell_type": "code",
   "execution_count": 154,
   "metadata": {},
   "outputs": [],
   "source": [
    "Country_group = Country_group[['Estimated_depression', \"depressionBins\" ,'BMI_bothSexes','BMI_male','BMI_female']]"
   ]
  },
  {
   "cell_type": "code",
   "execution_count": 155,
   "metadata": {},
   "outputs": [
    {
     "data": {
      "text/plain": [
       "Low        53\n",
       "Medium    106\n",
       "High       22\n",
       "Name: depressionBins, dtype: int64"
      ]
     },
     "execution_count": 155,
     "metadata": {},
     "output_type": "execute_result"
    }
   ],
   "source": [
    "# Check the number of countries placed in each bins\n",
    "Country_group['depressionBins'].value_counts(sort = False)"
   ]
  },
  {
   "cell_type": "markdown",
   "metadata": {},
   "source": [
    "Looking at the value counts of the"
   ]
  },
  {
   "cell_type": "code",
   "execution_count": 156,
   "metadata": {},
   "outputs": [
    {
     "data": {
      "text/plain": [
       "Text(0, 0.5, 'Count')"
      ]
     },
     "execution_count": 156,
     "metadata": {},
     "output_type": "execute_result"
    },
    {
     "data": {
      "image/png": "[encoded data removed]",
      "text/plain": [
       "<Figure size 432x288 with 1 Axes>"
      ]
     },
     "metadata": {},
     "output_type": "display_data"
    }
   ],
   "source": [
    "sns.set(style=\"ticks\")\n",
    "ax = sns.barplot(BMIGroup_names, Country_group['depressionBins'].value_counts(sort=False))\n",
    "\n",
    "# Set labels and title\n",
    "ax.set_title(\"depression bins\")\n",
    "ax.set_xlabel(\"Estimated Depression\")\n",
    "ax.set_ylabel(\"Count\")"
   ]
  },
  {
   "cell_type": "code",
   "execution_count": null,
   "metadata": {},
   "outputs": [],
   "source": []
  },
  {
   "cell_type": "code",
   "execution_count": 157,
   "metadata": {},
   "outputs": [],
   "source": [
    "# width=15\n",
    "# height = 12\n",
    "# plt.figure(figsize = (width,height))\n",
    "# sns.set_style('darkgrid')\n",
    "# total_BMI_plot = sns.regplot(x='Estimated_depression', y='BMI_bothSexes', data=Country_group)\n",
    "\n",
    "# total_BMI_plot.set_xlabel(\"Prevalence of Depression\", fontsize = 20)\n",
    "# total_BMI_plot.set_ylabel(\"Total Mean BMI\", fontsize = 20)\n",
    "# total_BMI_plot.tick_params(labelsize=15)\n",
    "\n",
    "# plt.show()\n",
    "# total_BMI_plot.get_figure().savefig(\"Depression vs Total BMI.png\")"
   ]
  },
  {
   "cell_type": "code",
   "execution_count": 167,
   "metadata": {},
   "outputs": [
    {
     "data": {
      "image/png": "[encoded data removed]",
      "text/plain": [
       "<Figure size 1080x864 with 1 Axes>"
      ]
     },
     "metadata": {},
     "output_type": "display_data"
    }
   ],
   "source": [
    "width=15\n",
    "height = 12\n",
    "plt.figure(figsize = (width,height))\n",
    "BMI_boxplot = sns.boxplot(x= 'depressionBins', y='BMI_bothSexes',data=Country_group)\n",
    "BMI_boxplot.set_xlabel(\"Depression Bins\", fontsize = 20)\n",
    "BMI_boxplot.set_ylabel(\"Total Mean BMI\", fontsize = 20)\n",
    "BMI_boxplot.tick_params(labelsize=15)\n"
   ]
  },
  {
   "cell_type": "code",
   "execution_count": 159,
   "metadata": {},
   "outputs": [],
   "source": [
    "Country_group_cat = Country_group[['depressionBins','BMI_bothSexes','BMI_male','BMI_female']]"
   ]
  },
  {
   "cell_type": "code",
   "execution_count": 160,
   "metadata": {},
   "outputs": [],
   "source": [
    "Country_group_cat = Country_group_cat.reset_index()\n"
   ]
  },
  {
   "cell_type": "code",
   "execution_count": 161,
   "metadata": {},
   "outputs": [],
   "source": [
    "Country_group_cat.drop(['Country'],axis=1,inplace=True)"
   ]
  },
  {
   "cell_type": "code",
   "execution_count": 162,
   "metadata": {},
   "outputs": [
    {
     "data": {
      "text/html": [
       "<div>\n",
       "<style scoped>\n",
       "    .dataframe tbody tr th:only-of-type {\n",
       "        vertical-align: middle;\n",
       "    }\n",
       "\n",
       "    .dataframe tbody tr th {\n",
       "        vertical-align: top;\n",
       "    }\n",
       "\n",
       "    .dataframe thead th {\n",
       "        text-align: right;\n",
       "    }\n",
       "</style>\n",
       "<table border=\"1\" class=\"dataframe\">\n",
       "  <thead>\n",
       "    <tr style=\"text-align: right;\">\n",
       "      <th></th>\n",
       "      <th>BMI_bothSexes</th>\n",
       "      <th>BMI_male</th>\n",
       "      <th>BMI_female</th>\n",
       "    </tr>\n",
       "    <tr>\n",
       "      <th>depressionBins</th>\n",
       "      <th></th>\n",
       "      <th></th>\n",
       "      <th></th>\n",
       "    </tr>\n",
       "  </thead>\n",
       "  <tbody>\n",
       "    <tr>\n",
       "      <th>Low</th>\n",
       "      <td>24.505660</td>\n",
       "      <td>23.839623</td>\n",
       "      <td>25.173585</td>\n",
       "    </tr>\n",
       "    <tr>\n",
       "      <th>Medium</th>\n",
       "      <td>25.813208</td>\n",
       "      <td>25.468868</td>\n",
       "      <td>26.170755</td>\n",
       "    </tr>\n",
       "    <tr>\n",
       "      <th>High</th>\n",
       "      <td>27.181818</td>\n",
       "      <td>27.068182</td>\n",
       "      <td>27.290909</td>\n",
       "    </tr>\n",
       "  </tbody>\n",
       "</table>\n",
       "</div>"
      ],
      "text/plain": [
       "                BMI_bothSexes   BMI_male  BMI_female\n",
       "depressionBins                                      \n",
       "Low                 24.505660  23.839623   25.173585\n",
       "Medium              25.813208  25.468868   26.170755\n",
       "High                27.181818  27.068182   27.290909"
      ]
     },
     "execution_count": 162,
     "metadata": {},
     "output_type": "execute_result"
    }
   ],
   "source": [
    "Country_group_cat.groupby(['depressionBins']).mean()"
   ]
  },
  {
   "cell_type": "markdown",
   "metadata": {},
   "source": [
    "From this data, we can see that depression levels that are classified as \"High\", on average, have the highest BMI ratings while \"Medium\" and \"Low\" have the second highest and lowest respectively.\n",
    "\n",
    "This helps us understand that countries that have a higher percentage of prevalance of depression tend to have higher BMI averages within their populations.  "
   ]
  },
  {
   "cell_type": "code",
   "execution_count": null,
   "metadata": {},
   "outputs": [],
   "source": []
  },
  {
   "cell_type": "markdown",
   "metadata": {},
   "source": [
    "# ANOVA \n",
    "We will only look at BMI_bothSexes in this analysis\n",
    "We will be using the ANOVA test to clarify the correlation between the different categories of depression levels we created earlier with \"depressionBins\". This test will return the F-test score and the p-value, with the F-test score describing the ratio of variation between the groups' mean over the variation within each of the sample groups. \n",
    "\n",
    "Our hypothesis is that depression does contribute to obesity and we perform an ANOVA test to prove the accuracy of the hypothesis."
   ]
  },
  {
   "cell_type": "code",
   "execution_count": 163,
   "metadata": {},
   "outputs": [],
   "source": [
    "grouped_anova_test = Country_group[['depressionBins','BMI_bothSexes']].groupby(['depressionBins'])"
   ]
  },
  {
   "cell_type": "code",
   "execution_count": 164,
   "metadata": {},
   "outputs": [
    {
     "data": {
      "text/plain": [
       "depressionBins\n",
       "Low       24.505660\n",
       "Medium    25.813208\n",
       "High      27.181818\n",
       "Name: BMI_bothSexes, dtype: float64"
      ]
     },
     "execution_count": 164,
     "metadata": {},
     "output_type": "execute_result"
    }
   ],
   "source": [
    "grouped_anova_test.mean()['BMI_bothSexes']"
   ]
  },
  {
   "cell_type": "code",
   "execution_count": 165,
   "metadata": {},
   "outputs": [
    {
     "data": {
      "text/html": [
       "<div>\n",
       "<style scoped>\n",
       "    .dataframe tbody tr th:only-of-type {\n",
       "        vertical-align: middle;\n",
       "    }\n",
       "\n",
       "    .dataframe tbody tr th {\n",
       "        vertical-align: top;\n",
       "    }\n",
       "\n",
       "    .dataframe thead th {\n",
       "        text-align: right;\n",
       "    }\n",
       "</style>\n",
       "<table border=\"1\" class=\"dataframe\">\n",
       "  <thead>\n",
       "    <tr style=\"text-align: right;\">\n",
       "      <th></th>\n",
       "      <th>Estimated_depression</th>\n",
       "      <th>depressionBins</th>\n",
       "      <th>BMI_bothSexes</th>\n",
       "      <th>BMI_male</th>\n",
       "      <th>BMI_female</th>\n",
       "    </tr>\n",
       "    <tr>\n",
       "      <th>Country</th>\n",
       "      <th></th>\n",
       "      <th></th>\n",
       "      <th></th>\n",
       "      <th></th>\n",
       "      <th></th>\n",
       "    </tr>\n",
       "  </thead>\n",
       "  <tbody>\n",
       "    <tr>\n",
       "      <th>Afghanistan</th>\n",
       "      <td>3.3</td>\n",
       "      <td>Low</td>\n",
       "      <td>22.9</td>\n",
       "      <td>22.3</td>\n",
       "      <td>23.6</td>\n",
       "    </tr>\n",
       "    <tr>\n",
       "      <th>Albania</th>\n",
       "      <td>4.8</td>\n",
       "      <td>Medium</td>\n",
       "      <td>26.7</td>\n",
       "      <td>26.9</td>\n",
       "      <td>26.4</td>\n",
       "    </tr>\n",
       "    <tr>\n",
       "      <th>Algeria</th>\n",
       "      <td>4.5</td>\n",
       "      <td>Medium</td>\n",
       "      <td>25.5</td>\n",
       "      <td>24.6</td>\n",
       "      <td>26.4</td>\n",
       "    </tr>\n",
       "    <tr>\n",
       "      <th>Angola</th>\n",
       "      <td>3.6</td>\n",
       "      <td>Low</td>\n",
       "      <td>22.9</td>\n",
       "      <td>22.1</td>\n",
       "      <td>23.8</td>\n",
       "    </tr>\n",
       "    <tr>\n",
       "      <th>Antigua and Barbuda</th>\n",
       "      <td>5.1</td>\n",
       "      <td>Medium</td>\n",
       "      <td>26.6</td>\n",
       "      <td>25.6</td>\n",
       "      <td>27.7</td>\n",
       "    </tr>\n",
       "    <tr>\n",
       "      <th>Argentina</th>\n",
       "      <td>4.7</td>\n",
       "      <td>Medium</td>\n",
       "      <td>27.6</td>\n",
       "      <td>27.7</td>\n",
       "      <td>27.6</td>\n",
       "    </tr>\n",
       "    <tr>\n",
       "      <th>Armenia</th>\n",
       "      <td>5.0</td>\n",
       "      <td>Medium</td>\n",
       "      <td>26.5</td>\n",
       "      <td>25.5</td>\n",
       "      <td>27.4</td>\n",
       "    </tr>\n",
       "    <tr>\n",
       "      <th>Australia</th>\n",
       "      <td>5.9</td>\n",
       "      <td>High</td>\n",
       "      <td>27.4</td>\n",
       "      <td>27.7</td>\n",
       "      <td>27.0</td>\n",
       "    </tr>\n",
       "    <tr>\n",
       "      <th>Austria</th>\n",
       "      <td>5.1</td>\n",
       "      <td>Medium</td>\n",
       "      <td>26.0</td>\n",
       "      <td>26.8</td>\n",
       "      <td>25.2</td>\n",
       "    </tr>\n",
       "    <tr>\n",
       "      <th>Azerbaijan</th>\n",
       "      <td>4.6</td>\n",
       "      <td>Medium</td>\n",
       "      <td>26.9</td>\n",
       "      <td>26.0</td>\n",
       "      <td>27.8</td>\n",
       "    </tr>\n",
       "  </tbody>\n",
       "</table>\n",
       "</div>"
      ],
      "text/plain": [
       "                     Estimated_depression depressionBins  BMI_bothSexes  \\\n",
       "Country                                                                   \n",
       "Afghanistan                           3.3            Low           22.9   \n",
       "Albania                               4.8         Medium           26.7   \n",
       "Algeria                               4.5         Medium           25.5   \n",
       "Angola                                3.6            Low           22.9   \n",
       "Antigua and Barbuda                   5.1         Medium           26.6   \n",
       "Argentina                             4.7         Medium           27.6   \n",
       "Armenia                               5.0         Medium           26.5   \n",
       "Australia                             5.9           High           27.4   \n",
       "Austria                               5.1         Medium           26.0   \n",
       "Azerbaijan                            4.6         Medium           26.9   \n",
       "\n",
       "                     BMI_male  BMI_female  \n",
       "Country                                    \n",
       "Afghanistan              22.3        23.6  \n",
       "Albania                  26.9        26.4  \n",
       "Algeria                  24.6        26.4  \n",
       "Angola                   22.1        23.8  \n",
       "Antigua and Barbuda      25.6        27.7  \n",
       "Argentina                27.7        27.6  \n",
       "Armenia                  25.5        27.4  \n",
       "Australia                27.7        27.0  \n",
       "Austria                  26.8        25.2  \n",
       "Azerbaijan               26.0        27.8  "
      ]
     },
     "execution_count": 165,
     "metadata": {},
     "output_type": "execute_result"
    }
   ],
   "source": [
    "Country_group.head(10)"
   ]
  },
  {
   "cell_type": "code",
   "execution_count": 43,
   "metadata": {},
   "outputs": [
    {
     "data": {
      "text/plain": [
       "Country\n",
       "Afghanistan                              22.9\n",
       "Angola                                   22.9\n",
       "Benin                                    23.3\n",
       "Brunei Darussalam                        27.2\n",
       "Burkina Faso                             22.1\n",
       "Cambodia                                 22.0\n",
       "Cameroon                                 24.0\n",
       "Chad                                     21.5\n",
       "Congo                                    22.9\n",
       "Côte d'Ivoire                            23.6\n",
       "Democratic People's Republic of Korea    24.1\n",
       "Democratic Republic of the Congo         21.7\n",
       "Egypt                                    29.3\n",
       "Fiji                                     27.6\n",
       "Gambia                                   23.5\n",
       "Guatemala                                26.2\n",
       "Guinea                                   22.7\n",
       "Guinea-Bissau                            23.1\n",
       "Honduras                                 26.4\n",
       "Indonesia                                23.1\n",
       "Iraq                                     28.1\n",
       "Jordan                                   28.4\n",
       "Kiribati                                 30.0\n",
       "Lao People's Democratic Republic         22.6\n",
       "Liberia                                  23.9\n",
       "Malaysia                                 25.6\n",
       "Maldives                                 24.9\n",
       "Mali                                     22.8\n",
       "Micronesia (Federated States of)         29.1\n",
       "Myanmar                                  22.6\n",
       "Nepal                                    22.3\n",
       "Niger                                    21.7\n",
       "Nigeria                                  23.0\n",
       "Papua New Guinea                         25.7\n",
       "Philippines                              23.0\n",
       "Rwanda                                   22.2\n",
       "Samoa                                    31.8\n",
       "Sao Tome and Principe                    24.4\n",
       "Senegal                                  22.5\n",
       "Seychelles                               26.9\n",
       "Sierra Leone                             22.7\n",
       "Solomon Islands                          26.1\n",
       "Somalia                                  22.8\n",
       "Syrian Arab Republic                     27.7\n",
       "Tajikistan                               25.4\n",
       "Timor-Leste                              21.0\n",
       "Togo                                     23.3\n",
       "Tonga                                    31.8\n",
       "Vanuatu                                  26.0\n",
       "Viet Nam                                 21.7\n",
       "Yemen                                    23.3\n",
       "Zambia                                   22.1\n",
       "Zimbabwe                                 23.3\n",
       "Name: BMI_bothSexes, dtype: float64"
      ]
     },
     "execution_count": 43,
     "metadata": {},
     "output_type": "execute_result"
    }
   ],
   "source": [
    "# get values of method group\n",
    "grouped_anova_test.get_group(\"Low\")['BMI_bothSexes']"
   ]
  },
  {
   "cell_type": "code",
   "execution_count": 44,
   "metadata": {},
   "outputs": [
    {
     "name": "stdout",
     "output_type": "stream",
     "text": [
      "F-value = 13.736481263000515 and p-value = 2.8327839167375136e-06\n"
     ]
    }
   ],
   "source": [
    "f_val,p_val = stats.f_oneway(grouped_anova_test.get_group('Low')['BMI_bothSexes'],\\\n",
    "                             grouped_anova_test.get_group('Medium')['BMI_bothSexes'],\\\n",
    "                            grouped_anova_test.get_group('High')['BMI_bothSexes'])\n",
    "print(f\"F-value = {f_val} and p-value = {p_val}\")"
   ]
  },
  {
   "cell_type": "markdown",
   "metadata": {},
   "source": [
    "From this calculation, we can see a large F score (13.74), which means there is a large difference between the means and a certain statistical significance with a small p-value (2.83e-6)\n"
   ]
  },
  {
   "cell_type": "code",
   "execution_count": null,
   "metadata": {},
   "outputs": [],
   "source": []
  },
  {
   "cell_type": "code",
   "execution_count": null,
   "metadata": {},
   "outputs": [],
   "source": []
  },
  {
   "cell_type": "code",
   "execution_count": null,
   "metadata": {},
   "outputs": [],
   "source": []
  },
  {
   "cell_type": "code",
   "execution_count": null,
   "metadata": {},
   "outputs": [],
   "source": []
  }
 ],
 "metadata": {
  "kernelspec": {
   "display_name": "Python 3",
   "language": "python",
   "name": "python3"
  },
  "language_info": {
   "codemirror_mode": {
    "name": "ipython",
    "version": 3
   },
   "file_extension": ".py",
   "mimetype": "text/x-python",
   "name": "python",
   "nbconvert_exporter": "python",
   "pygments_lexer": "ipython3",
   "version": "3.7.4"
  }
 },
 "nbformat": 4,
 "nbformat_minor": 2
}
