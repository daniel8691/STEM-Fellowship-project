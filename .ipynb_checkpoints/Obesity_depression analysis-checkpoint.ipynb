{
 "cells": [
  {
   "cell_type": "code",
   "execution_count": 1,
   "metadata": {},
   "outputs": [],
   "source": [
    "import pandas as pd\n",
    "import numpy as np\n",
    "import matplotlib.pyplot as plt\n",
    "%matplotlib inline\n"
   ]
  },
  {
   "cell_type": "code",
   "execution_count": 2,
   "metadata": {},
   "outputs": [
    {
     "name": "stderr",
     "output_type": "stream",
     "text": [
      "C:\\Users\\smartestpersonalive\\Anaconda3\\lib\\site-packages\\statsmodels\\tools\\_testing.py:19: FutureWarning: pandas.util.testing is deprecated. Use the functions in the public API at pandas.testing instead.\n",
      "  import pandas.util.testing as tm\n"
     ]
    }
   ],
   "source": [
    "import seaborn as sns"
   ]
  },
  {
   "cell_type": "code",
   "execution_count": 3,
   "metadata": {},
   "outputs": [],
   "source": [
    "drinking_df = pd.read_csv(\"heavy episodic drinking.csv\")\n",
    "depression_df = pd.read_csv(\"Population based prevalence of depression.csv\")\n",
    "obesity_df = pd.read_csv(\"Prevalence of Obesity Among adults BMI over 30 estimates by country.csv\")\n",
    "overweight_df = pd.read_csv(\"Prevalence of Overweights among adults BMI over 25.csv\")\n"
   ]
  },
  {
   "cell_type": "code",
   "execution_count": 14,
   "metadata": {},
   "outputs": [
    {
     "data": {
      "text/html": [
       "<div>\n",
       "<style scoped>\n",
       "    .dataframe tbody tr th:only-of-type {\n",
       "        vertical-align: middle;\n",
       "    }\n",
       "\n",
       "    .dataframe tbody tr th {\n",
       "        vertical-align: top;\n",
       "    }\n",
       "\n",
       "    .dataframe thead th {\n",
       "        text-align: right;\n",
       "    }\n",
       "</style>\n",
       "<table border=\"1\" class=\"dataframe\">\n",
       "  <thead>\n",
       "    <tr style=\"text-align: right;\">\n",
       "      <th></th>\n",
       "      <th>Unnamed: 0</th>\n",
       "      <th>Unnamed: 1</th>\n",
       "      <th>Alcohol, heavy episodic drinking (15+) past 30 days (%), age-standardized with 95%CI</th>\n",
       "      <th>Alcohol, heavy episodic drinking (15+) past 30 days (%), age-standardized with 95%CI.1</th>\n",
       "      <th>Alcohol, heavy episodic drinking (15+) past 30 days (%), age-standardized with 95%CI.2</th>\n",
       "    </tr>\n",
       "  </thead>\n",
       "  <tbody>\n",
       "    <tr>\n",
       "      <th>190</th>\n",
       "      <td>Venezuela (Bolivarian Republic of)</td>\n",
       "      <td>2016</td>\n",
       "      <td>14.9 [13.1-16.8]</td>\n",
       "      <td>25.4 [22.5-28.2]</td>\n",
       "      <td>4.7 [3.8-5.6]</td>\n",
       "    </tr>\n",
       "    <tr>\n",
       "      <th>191</th>\n",
       "      <td>Viet Nam</td>\n",
       "      <td>2016</td>\n",
       "      <td>14.4 [13.1-15.8]</td>\n",
       "      <td>24.6 [22.5-26.7]</td>\n",
       "      <td>4.4 [3.8-5.1]</td>\n",
       "    </tr>\n",
       "    <tr>\n",
       "      <th>192</th>\n",
       "      <td>Yemen</td>\n",
       "      <td>2016</td>\n",
       "      <td>0 [0-0]</td>\n",
       "      <td>0 [0-0]</td>\n",
       "      <td>0 [0-0]</td>\n",
       "    </tr>\n",
       "    <tr>\n",
       "      <th>193</th>\n",
       "      <td>Zambia</td>\n",
       "      <td>2016</td>\n",
       "      <td>12.6 [11.6-13.6]</td>\n",
       "      <td>21.6 [20-23]</td>\n",
       "      <td>3.8 [3.3-4.3]</td>\n",
       "    </tr>\n",
       "    <tr>\n",
       "      <th>194</th>\n",
       "      <td>Zimbabwe</td>\n",
       "      <td>2016</td>\n",
       "      <td>8.3 [7.5-9.2]</td>\n",
       "      <td>14.6 [13.2-16]</td>\n",
       "      <td>2.3 [2-2.8]</td>\n",
       "    </tr>\n",
       "  </tbody>\n",
       "</table>\n",
       "</div>"
      ],
      "text/plain": [
       "                             Unnamed: 0 Unnamed: 1  \\\n",
       "190  Venezuela (Bolivarian Republic of)       2016   \n",
       "191                            Viet Nam       2016   \n",
       "192                               Yemen       2016   \n",
       "193                              Zambia       2016   \n",
       "194                            Zimbabwe       2016   \n",
       "\n",
       "    Alcohol, heavy episodic drinking (15+) past 30 days (%), age-standardized with 95%CI  \\\n",
       "190                                   14.9 [13.1-16.8]                                     \n",
       "191                                   14.4 [13.1-15.8]                                     \n",
       "192                                            0 [0-0]                                     \n",
       "193                                   12.6 [11.6-13.6]                                     \n",
       "194                                      8.3 [7.5-9.2]                                     \n",
       "\n",
       "    Alcohol, heavy episodic drinking (15+) past 30 days (%), age-standardized with 95%CI.1  \\\n",
       "190                                   25.4 [22.5-28.2]                                       \n",
       "191                                   24.6 [22.5-26.7]                                       \n",
       "192                                            0 [0-0]                                       \n",
       "193                                       21.6 [20-23]                                       \n",
       "194                                     14.6 [13.2-16]                                       \n",
       "\n",
       "    Alcohol, heavy episodic drinking (15+) past 30 days (%), age-standardized with 95%CI.2  \n",
       "190                                      4.7 [3.8-5.6]                                      \n",
       "191                                      4.4 [3.8-5.1]                                      \n",
       "192                                            0 [0-0]                                      \n",
       "193                                      3.8 [3.3-4.3]                                      \n",
       "194                                        2.3 [2-2.8]                                      "
      ]
     },
     "execution_count": 14,
     "metadata": {},
     "output_type": "execute_result"
    }
   ],
   "source": [
    "drinking_df.tail()"
   ]
  },
  {
   "cell_type": "code",
   "execution_count": 62,
   "metadata": {},
   "outputs": [
    {
     "data": {
      "text/plain": [
       "(184, 2)"
      ]
     },
     "execution_count": 62,
     "metadata": {},
     "output_type": "execute_result"
    }
   ],
   "source": [
    "depression_df.shape"
   ]
  },
  {
   "cell_type": "code",
   "execution_count": 15,
   "metadata": {},
   "outputs": [
    {
     "data": {
      "text/plain": [
       "196"
      ]
     },
     "execution_count": 15,
     "metadata": {},
     "output_type": "execute_result"
    }
   ],
   "source": [
    "obesity_df['Unnamed: 0'].count()"
   ]
  },
  {
   "cell_type": "code",
   "execution_count": 25,
   "metadata": {},
   "outputs": [
    {
     "name": "stdout",
     "output_type": "stream",
     "text": [
      "<class 'pandas.core.frame.DataFrame'>\n",
      "RangeIndex: 198 entries, 0 to 197\n",
      "Columns: 127 entries, Unnamed: 0 to 1975.2\n",
      "dtypes: object(127)\n",
      "memory usage: 196.6+ KB\n"
     ]
    }
   ],
   "source": [
    "overweight_df.info()\n",
    "overweight_df.head()\n",
    "overweight_filtered = overweight_df[['Unnamed: 0',\"2015\",\"2015.1\",\"2015.2\"]]"
   ]
  },
  {
   "cell_type": "code",
   "execution_count": null,
   "metadata": {},
   "outputs": [],
   "source": []
  },
  {
   "cell_type": "code",
   "execution_count": 21,
   "metadata": {},
   "outputs": [],
   "source": [
    "obesity_df.head()\n"
   ]
  },
  {
   "cell_type": "code",
   "execution_count": 45,
   "metadata": {},
   "outputs": [],
   "source": [
    "# rename columns\n",
    "obesity_filtered = obesity_df[['Unnamed: 0',\"2015\",\"2015.1\",\"2015.2\"]]\n",
    "obesity_columnNames = ['Country','BMI>=30_both_sexes', \"BMI>=30_male\", \"BMI>=30_female\"]"
   ]
  },
  {
   "cell_type": "code",
   "execution_count": 49,
   "metadata": {},
   "outputs": [],
   "source": [
    "obesity_filtered.columns = obesity_columnNames\n",
    "obesity_checkpoint1 = obesity_filtered"
   ]
  },
  {
   "cell_type": "code",
   "execution_count": 50,
   "metadata": {},
   "outputs": [
    {
     "name": "stderr",
     "output_type": "stream",
     "text": [
      "C:\\Users\\smartestpersonalive\\Anaconda3\\lib\\site-packages\\pandas\\core\\frame.py:3997: SettingWithCopyWarning: \n",
      "A value is trying to be set on a copy of a slice from a DataFrame\n",
      "\n",
      "See the caveats in the documentation: https://pandas.pydata.org/pandas-docs/stable/user_guide/indexing.html#returning-a-view-versus-a-copy\n",
      "  errors=errors,\n"
     ]
    }
   ],
   "source": [
    "# drop first 3 rows\n",
    "obesity_filtered.drop([0,1,2],inplace=True)\n"
   ]
  },
  {
   "cell_type": "code",
   "execution_count": 53,
   "metadata": {},
   "outputs": [
    {
     "data": {
      "text/html": [
       "<div>\n",
       "<style scoped>\n",
       "    .dataframe tbody tr th:only-of-type {\n",
       "        vertical-align: middle;\n",
       "    }\n",
       "\n",
       "    .dataframe tbody tr th {\n",
       "        vertical-align: top;\n",
       "    }\n",
       "\n",
       "    .dataframe thead th {\n",
       "        text-align: right;\n",
       "    }\n",
       "</style>\n",
       "<table border=\"1\" class=\"dataframe\">\n",
       "  <thead>\n",
       "    <tr style=\"text-align: right;\">\n",
       "      <th></th>\n",
       "      <th>Country</th>\n",
       "      <th>BMI&gt;=30_both_sexes</th>\n",
       "      <th>BMI&gt;=30_male</th>\n",
       "      <th>BMI&gt;=30_female</th>\n",
       "    </tr>\n",
       "  </thead>\n",
       "  <tbody>\n",
       "    <tr>\n",
       "      <th>0</th>\n",
       "      <td>Afghanistan</td>\n",
       "      <td>5.2 [3.3-7.7]</td>\n",
       "      <td>3.0 [1.3-6.0]</td>\n",
       "      <td>7.3 [4.1-11.8]</td>\n",
       "    </tr>\n",
       "    <tr>\n",
       "      <th>1</th>\n",
       "      <td>Albania</td>\n",
       "      <td>21.1 [16.6-26.0]</td>\n",
       "      <td>20.9 [14.4-28.1]</td>\n",
       "      <td>21.3 [15.1-28.1]</td>\n",
       "    </tr>\n",
       "    <tr>\n",
       "      <th>2</th>\n",
       "      <td>Algeria</td>\n",
       "      <td>26.7 [21.9-31.8]</td>\n",
       "      <td>19.2 [13.2-26.1]</td>\n",
       "      <td>34.2 [27.1-41.7]</td>\n",
       "    </tr>\n",
       "    <tr>\n",
       "      <th>3</th>\n",
       "      <td>Andorra</td>\n",
       "      <td>25.4 [20.1-31.0]</td>\n",
       "      <td>25.5 [17.8-33.8]</td>\n",
       "      <td>25.2 [17.7-33.4]</td>\n",
       "    </tr>\n",
       "    <tr>\n",
       "      <th>4</th>\n",
       "      <td>Angola</td>\n",
       "      <td>7.9 [4.9-11.7]</td>\n",
       "      <td>3.8 [1.5-7.3]</td>\n",
       "      <td>11.6 [6.5-18.2]</td>\n",
       "    </tr>\n",
       "    <tr>\n",
       "      <th>...</th>\n",
       "      <td>...</td>\n",
       "      <td>...</td>\n",
       "      <td>...</td>\n",
       "      <td>...</td>\n",
       "    </tr>\n",
       "    <tr>\n",
       "      <th>190</th>\n",
       "      <td>Venezuela (Bolivarian Republic of)</td>\n",
       "      <td>25.2 [21.0-29.5]</td>\n",
       "      <td>22.0 [16.2-28.2]</td>\n",
       "      <td>28.3 [22.4-34.6]</td>\n",
       "    </tr>\n",
       "    <tr>\n",
       "      <th>191</th>\n",
       "      <td>Viet Nam</td>\n",
       "      <td>2.0 [1.3-2.9]</td>\n",
       "      <td>1.5 [0.8-2.5]</td>\n",
       "      <td>2.4 [1.4-3.9]</td>\n",
       "    </tr>\n",
       "    <tr>\n",
       "      <th>192</th>\n",
       "      <td>Yemen</td>\n",
       "      <td>16.5 [12.9-20.5]</td>\n",
       "      <td>11.4 [7.0-16.7]</td>\n",
       "      <td>21.3 [15.6-27.4]</td>\n",
       "    </tr>\n",
       "    <tr>\n",
       "      <th>193</th>\n",
       "      <td>Zambia</td>\n",
       "      <td>7.7 [5.6-10.2]</td>\n",
       "      <td>3.4 [1.6-6.1]</td>\n",
       "      <td>12.0 [8.2-16.4]</td>\n",
       "    </tr>\n",
       "    <tr>\n",
       "      <th>194</th>\n",
       "      <td>Zimbabwe</td>\n",
       "      <td>15.2 [11.9-18.8]</td>\n",
       "      <td>4.5 [2.4-7.6]</td>\n",
       "      <td>24.8 [18.9-31.3]</td>\n",
       "    </tr>\n",
       "  </tbody>\n",
       "</table>\n",
       "<p>195 rows × 4 columns</p>\n",
       "</div>"
      ],
      "text/plain": [
       "                                Country BMI>=30_both_sexes      BMI>=30_male  \\\n",
       "0                           Afghanistan      5.2 [3.3-7.7]     3.0 [1.3-6.0]   \n",
       "1                               Albania   21.1 [16.6-26.0]  20.9 [14.4-28.1]   \n",
       "2                               Algeria   26.7 [21.9-31.8]  19.2 [13.2-26.1]   \n",
       "3                               Andorra   25.4 [20.1-31.0]  25.5 [17.8-33.8]   \n",
       "4                                Angola     7.9 [4.9-11.7]     3.8 [1.5-7.3]   \n",
       "..                                  ...                ...               ...   \n",
       "190  Venezuela (Bolivarian Republic of)   25.2 [21.0-29.5]  22.0 [16.2-28.2]   \n",
       "191                            Viet Nam      2.0 [1.3-2.9]     1.5 [0.8-2.5]   \n",
       "192                               Yemen   16.5 [12.9-20.5]   11.4 [7.0-16.7]   \n",
       "193                              Zambia     7.7 [5.6-10.2]     3.4 [1.6-6.1]   \n",
       "194                            Zimbabwe   15.2 [11.9-18.8]     4.5 [2.4-7.6]   \n",
       "\n",
       "       BMI>=30_female  \n",
       "0      7.3 [4.1-11.8]  \n",
       "1    21.3 [15.1-28.1]  \n",
       "2    34.2 [27.1-41.7]  \n",
       "3    25.2 [17.7-33.4]  \n",
       "4     11.6 [6.5-18.2]  \n",
       "..                ...  \n",
       "190  28.3 [22.4-34.6]  \n",
       "191     2.4 [1.4-3.9]  \n",
       "192  21.3 [15.6-27.4]  \n",
       "193   12.0 [8.2-16.4]  \n",
       "194  24.8 [18.9-31.3]  \n",
       "\n",
       "[195 rows x 4 columns]"
      ]
     },
     "execution_count": 53,
     "metadata": {},
     "output_type": "execute_result"
    }
   ],
   "source": [
    "obesity_filtered = obesity_filtered.reset_index()\n",
    "obesity_filtered.drop(['index'],axis=1)"
   ]
  },
  {
   "cell_type": "code",
   "execution_count": 54,
   "metadata": {},
   "outputs": [],
   "source": [
    "BMI_both_sexes = []\n",
    "for a in obesity_filtered['BMI>=30_both_sexes']:\n",
    "    BMI_both_sexes.append(a.split(\" \")[0])\n",
    "    "
   ]
  },
  {
   "cell_type": "code",
   "execution_count": 57,
   "metadata": {},
   "outputs": [],
   "source": [
    "BMI_both_sexes = [a.split(\" \")[0] for a in obesity_filtered['BMI>=30_both_sexes']]\n",
    "BMI_male = [b.split(\" \")[0] for b in obesity_filtered['BMI>=30_male']]\n",
    "BMI_female = [c.split(\" \")[0] for c in obesity_filtered['BMI>=30_male']]"
   ]
  },
  {
   "cell_type": "code",
   "execution_count": 99,
   "metadata": {},
   "outputs": [],
   "source": [
    "obesity_cleaned = pd.DataFrame({\"Country\":obesity_filtered['Country'],\n",
    "                               \"BMI>=30_both_sexes\": BMI_both_sexes,\n",
    "                               \"BMI>=30_male\":BMI_male,\n",
    "                               \"BMI>=30_female\": BMI_female})\n",
    "# delete rows with no data\n",
    "obesity_cleaned = obesity_cleaned[~obesity_cleaned['BMI>=30_both_sexes'].isin(['No'])]\n",
    "# change data type from object to float\n",
    "obesity_cleaned['BMI>=30_both_sexes'] = obesity_cleaned['BMI>=30_both_sexes'].astype(\"float\")\n",
    "obesity_cleaned['BMI>=30_male'] = obesity_cleaned['BMI>=30_male'].astype(\"float\")\n",
    "obesity_cleaned['BMI>=30_female'] = obesity_cleaned['BMI>=30_female'].astype(\"float\")"
   ]
  },
  {
   "cell_type": "markdown",
   "metadata": {},
   "source": [
    "# obesity_cleaned"
   ]
  },
  {
   "cell_type": "code",
   "execution_count": 101,
   "metadata": {},
   "outputs": [
    {
     "data": {
      "text/html": [
       "<div>\n",
       "<style scoped>\n",
       "    .dataframe tbody tr th:only-of-type {\n",
       "        vertical-align: middle;\n",
       "    }\n",
       "\n",
       "    .dataframe tbody tr th {\n",
       "        vertical-align: top;\n",
       "    }\n",
       "\n",
       "    .dataframe thead th {\n",
       "        text-align: right;\n",
       "    }\n",
       "</style>\n",
       "<table border=\"1\" class=\"dataframe\">\n",
       "  <thead>\n",
       "    <tr style=\"text-align: right;\">\n",
       "      <th></th>\n",
       "      <th>Country</th>\n",
       "      <th>BMI&gt;=30_both_sexes</th>\n",
       "      <th>BMI&gt;=30_male</th>\n",
       "      <th>BMI&gt;=30_female</th>\n",
       "    </tr>\n",
       "  </thead>\n",
       "  <tbody>\n",
       "    <tr>\n",
       "      <th>0</th>\n",
       "      <td>Afghanistan</td>\n",
       "      <td>5.2</td>\n",
       "      <td>3.0</td>\n",
       "      <td>3.0</td>\n",
       "    </tr>\n",
       "    <tr>\n",
       "      <th>1</th>\n",
       "      <td>Albania</td>\n",
       "      <td>21.1</td>\n",
       "      <td>20.9</td>\n",
       "      <td>20.9</td>\n",
       "    </tr>\n",
       "    <tr>\n",
       "      <th>2</th>\n",
       "      <td>Algeria</td>\n",
       "      <td>26.7</td>\n",
       "      <td>19.2</td>\n",
       "      <td>19.2</td>\n",
       "    </tr>\n",
       "    <tr>\n",
       "      <th>3</th>\n",
       "      <td>Andorra</td>\n",
       "      <td>25.4</td>\n",
       "      <td>25.5</td>\n",
       "      <td>25.5</td>\n",
       "    </tr>\n",
       "    <tr>\n",
       "      <th>4</th>\n",
       "      <td>Angola</td>\n",
       "      <td>7.9</td>\n",
       "      <td>3.8</td>\n",
       "      <td>3.8</td>\n",
       "    </tr>\n",
       "  </tbody>\n",
       "</table>\n",
       "</div>"
      ],
      "text/plain": [
       "       Country  BMI>=30_both_sexes  BMI>=30_male  BMI>=30_female\n",
       "0  Afghanistan                 5.2           3.0             3.0\n",
       "1      Albania                21.1          20.9            20.9\n",
       "2      Algeria                26.7          19.2            19.2\n",
       "3      Andorra                25.4          25.5            25.5\n",
       "4       Angola                 7.9           3.8             3.8"
      ]
     },
     "execution_count": 101,
     "metadata": {},
     "output_type": "execute_result"
    }
   ],
   "source": [
    "obesity_cleaned.dtypes\n",
    "obesity_cleaned.head()"
   ]
  },
  {
   "cell_type": "code",
   "execution_count": 60,
   "metadata": {},
   "outputs": [
    {
     "data": {
      "text/html": [
       "<div>\n",
       "<style scoped>\n",
       "    .dataframe tbody tr th:only-of-type {\n",
       "        vertical-align: middle;\n",
       "    }\n",
       "\n",
       "    .dataframe tbody tr th {\n",
       "        vertical-align: top;\n",
       "    }\n",
       "\n",
       "    .dataframe thead th {\n",
       "        text-align: right;\n",
       "    }\n",
       "</style>\n",
       "<table border=\"1\" class=\"dataframe\">\n",
       "  <thead>\n",
       "    <tr style=\"text-align: right;\">\n",
       "      <th></th>\n",
       "      <th>Unnamed: 0</th>\n",
       "      <th>Estimated population-based prevalence of depression</th>\n",
       "    </tr>\n",
       "  </thead>\n",
       "  <tbody>\n",
       "    <tr>\n",
       "      <th>0</th>\n",
       "      <td>Country</td>\n",
       "      <td>2015.0</td>\n",
       "    </tr>\n",
       "    <tr>\n",
       "      <th>1</th>\n",
       "      <td>Afghanistan</td>\n",
       "      <td>3.3</td>\n",
       "    </tr>\n",
       "    <tr>\n",
       "      <th>2</th>\n",
       "      <td>Albania</td>\n",
       "      <td>4.8</td>\n",
       "    </tr>\n",
       "    <tr>\n",
       "      <th>3</th>\n",
       "      <td>Algeria</td>\n",
       "      <td>4.5</td>\n",
       "    </tr>\n",
       "    <tr>\n",
       "      <th>4</th>\n",
       "      <td>Angola</td>\n",
       "      <td>3.6</td>\n",
       "    </tr>\n",
       "  </tbody>\n",
       "</table>\n",
       "</div>"
      ],
      "text/plain": [
       "    Unnamed: 0  Estimated population-based prevalence of depression\n",
       "0      Country                                             2015.0  \n",
       "1  Afghanistan                                                3.3  \n",
       "2      Albania                                                4.8  \n",
       "3      Algeria                                                4.5  \n",
       "4       Angola                                                3.6  "
      ]
     },
     "execution_count": 60,
     "metadata": {},
     "output_type": "execute_result"
    }
   ],
   "source": [
    "depression_df.head()"
   ]
  },
  {
   "cell_type": "code",
   "execution_count": 63,
   "metadata": {},
   "outputs": [],
   "source": [
    "depression_columnNames = ['Country','Estimated_depression']\n",
    "depression_df.columns = depression_columnNames"
   ]
  },
  {
   "cell_type": "code",
   "execution_count": 66,
   "metadata": {},
   "outputs": [],
   "source": [
    "depression_df.drop([0],axis=0,inplace=True)"
   ]
  },
  {
   "cell_type": "code",
   "execution_count": 75,
   "metadata": {},
   "outputs": [],
   "source": [
    "depression_df = depression_df.reset_index()\n"
   ]
  },
  {
   "cell_type": "code",
   "execution_count": 76,
   "metadata": {},
   "outputs": [],
   "source": [
    "depression_df.drop(['index'],axis=1, inplace=True)"
   ]
  },
  {
   "cell_type": "markdown",
   "metadata": {},
   "source": [
    "# depression_df cleaned"
   ]
  },
  {
   "cell_type": "code",
   "execution_count": 102,
   "metadata": {},
   "outputs": [],
   "source": [
    "depression_obesity = pd.concat([depression_df, obesity_cleaned])"
   ]
  },
  {
   "cell_type": "code",
   "execution_count": 103,
   "metadata": {},
   "outputs": [],
   "source": [
    "obesity_countryGroup = depression_obesity.groupby(['Country'])"
   ]
  },
  {
   "cell_type": "code",
   "execution_count": 114,
   "metadata": {},
   "outputs": [],
   "source": [
    "not_in_depression = list(obesity_countryGroup.sum().loc[obesity_countryGroup.sum()['Estimated_depression'] == 0,:].index)"
   ]
  },
  {
   "cell_type": "code",
   "execution_count": 117,
   "metadata": {},
   "outputs": [
    {
     "data": {
      "text/plain": [
       "10"
      ]
     },
     "execution_count": 117,
     "metadata": {},
     "output_type": "execute_result"
    }
   ],
   "source": [
    "len(not_in_depression)"
   ]
  },
  {
   "cell_type": "code",
   "execution_count": 119,
   "metadata": {},
   "outputs": [],
   "source": [
    "obesity_depression_df = obesity_countryGroup.sum().drop(not_in_depression,axis=0)"
   ]
  },
  {
   "cell_type": "code",
   "execution_count": 118,
   "metadata": {},
   "outputs": [
    {
     "data": {
      "text/plain": [
       "(183, 4)"
      ]
     },
     "execution_count": 118,
     "metadata": {},
     "output_type": "execute_result"
    }
   ],
   "source": []
  },
  {
   "cell_type": "code",
   "execution_count": 120,
   "metadata": {},
   "outputs": [
    {
     "data": {
      "image/png": "[encoded data removed]",
      "text/plain": [
       "<Figure size 864x720 with 1 Axes>"
      ]
     },
     "metadata": {
      "needs_background": "light"
     },
     "output_type": "display_data"
    }
   ],
   "source": [
    "width=12\n",
    "height = 10\n",
    "plt.figure(figsize = (width,height))\n",
    "sns.regplot(x='Estimated_depression', y='BMI>=30_both_sexes', data=obesity_depression_df)\n",
    "plt.xlabel('Prevalence of Depression (%)')\n",
    "plt.ylabel(\"Number of individuals with BMI >=30 for both Sexes\")\n",
    "plt.show()"
   ]
  },
  {
   "cell_type": "code",
   "execution_count": null,
   "metadata": {},
   "outputs": [],
   "source": []
  },
  {
   "cell_type": "code",
   "execution_count": null,
   "metadata": {},
   "outputs": [],
   "source": []
  },
  {
   "cell_type": "code",
   "execution_count": null,
   "metadata": {},
   "outputs": [],
   "source": []
  },
  {
   "cell_type": "code",
   "execution_count": null,
   "metadata": {},
   "outputs": [],
   "source": []
  },
  {
   "cell_type": "code",
   "execution_count": null,
   "metadata": {},
   "outputs": [],
   "source": []
  },
  {
   "cell_type": "code",
   "execution_count": null,
   "metadata": {},
   "outputs": [],
   "source": []
  },
  {
   "cell_type": "code",
   "execution_count": null,
   "metadata": {},
   "outputs": [],
   "source": []
  },
  {
   "cell_type": "code",
   "execution_count": null,
   "metadata": {},
   "outputs": [],
   "source": []
  },
  {
   "cell_type": "code",
   "execution_count": null,
   "metadata": {},
   "outputs": [],
   "source": []
  },
  {
   "cell_type": "code",
   "execution_count": null,
   "metadata": {},
   "outputs": [],
   "source": []
  }
 ],
 "metadata": {
  "kernelspec": {
   "display_name": "Python 3",
   "language": "python",
   "name": "python3"
  },
  "language_info": {
   "codemirror_mode": {
    "name": "ipython",
    "version": 3
   },
   "file_extension": ".py",
   "mimetype": "text/x-python",
   "name": "python",
   "nbconvert_exporter": "python",
   "pygments_lexer": "ipython3",
   "version": "3.7.4"
  }
 },
 "nbformat": 4,
 "nbformat_minor": 2
}
