{
 "cells": [
  {
   "cell_type": "code",
   "execution_count": 1,
   "metadata": {},
   "outputs": [
    {
     "name": "stderr",
     "output_type": "stream",
     "text": [
      "C:\\Users\\smartestpersonalive\\Anaconda3\\lib\\site-packages\\statsmodels\\tools\\_testing.py:19: FutureWarning: pandas.util.testing is deprecated. Use the functions in the public API at pandas.testing instead.\n",
      "  import pandas.util.testing as tm\n"
     ]
    }
   ],
   "source": [
    "import pandas as pd\n",
    "import numpy as np\n",
    "import seaborn as sns\n",
    "import matplotlib.pyplot as plt\n",
    "\n",
    "%matplotlib inline"
   ]
  },
  {
   "cell_type": "code",
   "execution_count": 4,
   "metadata": {},
   "outputs": [],
   "source": [
    "# import the data\n",
    "mean_BMI = pd.read_csv(\"Mean BMI among adults.csv\")\n",
    "depression = pd.read_csv(\"Population based prevalence of depression.csv\")"
   ]
  },
  {
   "cell_type": "code",
   "execution_count": 8,
   "metadata": {},
   "outputs": [],
   "source": [
    "# Take only the columns we need\n",
    "mean_BMI_df = mean_BMI[['Unnamed: 0','2015','2015.1','2015.2']]"
   ]
  },
  {
   "cell_type": "code",
   "execution_count": 9,
   "metadata": {},
   "outputs": [
    {
     "data": {
      "text/html": [
       "<div>\n",
       "<style scoped>\n",
       "    .dataframe tbody tr th:only-of-type {\n",
       "        vertical-align: middle;\n",
       "    }\n",
       "\n",
       "    .dataframe tbody tr th {\n",
       "        vertical-align: top;\n",
       "    }\n",
       "\n",
       "    .dataframe thead th {\n",
       "        text-align: right;\n",
       "    }\n",
       "</style>\n",
       "<table border=\"1\" class=\"dataframe\">\n",
       "  <thead>\n",
       "    <tr style=\"text-align: right;\">\n",
       "      <th></th>\n",
       "      <th>Unnamed: 0</th>\n",
       "      <th>2015</th>\n",
       "      <th>2015.1</th>\n",
       "      <th>2015.2</th>\n",
       "    </tr>\n",
       "  </thead>\n",
       "  <tbody>\n",
       "    <tr>\n",
       "      <th>0</th>\n",
       "      <td>NaN</td>\n",
       "      <td>Mean BMI (kg/m&amp;amp;#xb2,) (crude estimate)</td>\n",
       "      <td>Mean BMI (kg/m&amp;amp;#xb2,) (crude estimate)</td>\n",
       "      <td>Mean BMI (kg/m&amp;amp;#xb2,) (crude estimate)</td>\n",
       "    </tr>\n",
       "    <tr>\n",
       "      <th>1</th>\n",
       "      <td>NaN</td>\n",
       "      <td>18+  years</td>\n",
       "      <td>18+  years</td>\n",
       "      <td>18+  years</td>\n",
       "    </tr>\n",
       "    <tr>\n",
       "      <th>2</th>\n",
       "      <td>Country</td>\n",
       "      <td>Both sexes</td>\n",
       "      <td>Male</td>\n",
       "      <td>Female</td>\n",
       "    </tr>\n",
       "    <tr>\n",
       "      <th>3</th>\n",
       "      <td>Afghanistan</td>\n",
       "      <td>22.9 [21.6-24.3]</td>\n",
       "      <td>22.3 [19.8-24.8]</td>\n",
       "      <td>23.6 [22.7-24.5]</td>\n",
       "    </tr>\n",
       "    <tr>\n",
       "      <th>4</th>\n",
       "      <td>Albania</td>\n",
       "      <td>26.7 [25.9-27.5]</td>\n",
       "      <td>26.9 [25.8-28.0]</td>\n",
       "      <td>26.4 [25.2-27.7]</td>\n",
       "    </tr>\n",
       "  </tbody>\n",
       "</table>\n",
       "</div>"
      ],
      "text/plain": [
       "    Unnamed: 0                                         2015  \\\n",
       "0          NaN   Mean BMI (kg/m&amp;#xb2,) (crude estimate)   \n",
       "1          NaN                                   18+  years   \n",
       "2      Country                                   Both sexes   \n",
       "3  Afghanistan                             22.9 [21.6-24.3]   \n",
       "4      Albania                             26.7 [25.9-27.5]   \n",
       "\n",
       "                                        2015.1  \\\n",
       "0   Mean BMI (kg/m&amp;#xb2,) (crude estimate)   \n",
       "1                                   18+  years   \n",
       "2                                         Male   \n",
       "3                             22.3 [19.8-24.8]   \n",
       "4                             26.9 [25.8-28.0]   \n",
       "\n",
       "                                        2015.2  \n",
       "0   Mean BMI (kg/m&amp;#xb2,) (crude estimate)  \n",
       "1                                   18+  years  \n",
       "2                                       Female  \n",
       "3                             23.6 [22.7-24.5]  \n",
       "4                             26.4 [25.2-27.7]  "
      ]
     },
     "execution_count": 9,
     "metadata": {},
     "output_type": "execute_result"
    }
   ],
   "source": [
    "mean_BMI_df.head()"
   ]
  },
  {
   "cell_type": "code",
   "execution_count": 12,
   "metadata": {},
   "outputs": [],
   "source": [
    "# rename columns \n",
    "mean_BMI_df_columnNames = ['Country','mean_BMI_both_sexes','mean_BMI_male','mean_BMI_female']\n",
    "mean_BMI_df.columns = mean_BMI_df_columnNames"
   ]
  },
  {
   "cell_type": "code",
   "execution_count": 14,
   "metadata": {},
   "outputs": [
    {
     "name": "stderr",
     "output_type": "stream",
     "text": [
      "C:\\Users\\smartestpersonalive\\Anaconda3\\lib\\site-packages\\pandas\\core\\frame.py:3997: SettingWithCopyWarning: \n",
      "A value is trying to be set on a copy of a slice from a DataFrame\n",
      "\n",
      "See the caveats in the documentation: https://pandas.pydata.org/pandas-docs/stable/user_guide/indexing.html#returning-a-view-versus-a-copy\n",
      "  errors=errors,\n"
     ]
    }
   ],
   "source": [
    "mean_BMI_df.drop([0,1,2],inplace=True)"
   ]
  },
  {
   "cell_type": "code",
   "execution_count": 18,
   "metadata": {},
   "outputs": [
    {
     "name": "stderr",
     "output_type": "stream",
     "text": [
      "C:\\Users\\smartestpersonalive\\Anaconda3\\lib\\site-packages\\pandas\\core\\frame.py:3997: SettingWithCopyWarning: \n",
      "A value is trying to be set on a copy of a slice from a DataFrame\n",
      "\n",
      "See the caveats in the documentation: https://pandas.pydata.org/pandas-docs/stable/user_guide/indexing.html#returning-a-view-versus-a-copy\n",
      "  errors=errors,\n"
     ]
    }
   ],
   "source": [
    "mean_BMI_df.reset_index(inplace=True)\n"
   ]
  },
  {
   "cell_type": "code",
   "execution_count": 21,
   "metadata": {},
   "outputs": [
    {
     "data": {
      "text/html": [
       "<div>\n",
       "<style scoped>\n",
       "    .dataframe tbody tr th:only-of-type {\n",
       "        vertical-align: middle;\n",
       "    }\n",
       "\n",
       "    .dataframe tbody tr th {\n",
       "        vertical-align: top;\n",
       "    }\n",
       "\n",
       "    .dataframe thead th {\n",
       "        text-align: right;\n",
       "    }\n",
       "</style>\n",
       "<table border=\"1\" class=\"dataframe\">\n",
       "  <thead>\n",
       "    <tr style=\"text-align: right;\">\n",
       "      <th></th>\n",
       "      <th>Country</th>\n",
       "      <th>mean_BMI_both_sexes</th>\n",
       "      <th>mean_BMI_male</th>\n",
       "      <th>mean_BMI_female</th>\n",
       "    </tr>\n",
       "  </thead>\n",
       "  <tbody>\n",
       "    <tr>\n",
       "      <th>0</th>\n",
       "      <td>Afghanistan</td>\n",
       "      <td>22.9 [21.6-24.3]</td>\n",
       "      <td>22.3 [19.8-24.8]</td>\n",
       "      <td>23.6 [22.7-24.5]</td>\n",
       "    </tr>\n",
       "    <tr>\n",
       "      <th>1</th>\n",
       "      <td>Albania</td>\n",
       "      <td>26.7 [25.9-27.5]</td>\n",
       "      <td>26.9 [25.8-28.0]</td>\n",
       "      <td>26.4 [25.2-27.7]</td>\n",
       "    </tr>\n",
       "    <tr>\n",
       "      <th>2</th>\n",
       "      <td>Algeria</td>\n",
       "      <td>25.5 [24.5-26.4]</td>\n",
       "      <td>24.6 [23.3-25.8]</td>\n",
       "      <td>26.4 [25.0-27.7]</td>\n",
       "    </tr>\n",
       "    <tr>\n",
       "      <th>3</th>\n",
       "      <td>Andorra</td>\n",
       "      <td>27.0 [25.0-29.1]</td>\n",
       "      <td>27.6 [25.2-30.1]</td>\n",
       "      <td>26.5 [23.1-29.8]</td>\n",
       "    </tr>\n",
       "    <tr>\n",
       "      <th>4</th>\n",
       "      <td>Angola</td>\n",
       "      <td>22.9 [20.7-25.2]</td>\n",
       "      <td>22.1 [19.4-24.7]</td>\n",
       "      <td>23.8 [20.2-27.3]</td>\n",
       "    </tr>\n",
       "  </tbody>\n",
       "</table>\n",
       "</div>"
      ],
      "text/plain": [
       "       Country mean_BMI_both_sexes     mean_BMI_male   mean_BMI_female\n",
       "0  Afghanistan    22.9 [21.6-24.3]  22.3 [19.8-24.8]  23.6 [22.7-24.5]\n",
       "1      Albania    26.7 [25.9-27.5]  26.9 [25.8-28.0]  26.4 [25.2-27.7]\n",
       "2      Algeria    25.5 [24.5-26.4]  24.6 [23.3-25.8]  26.4 [25.0-27.7]\n",
       "3      Andorra    27.0 [25.0-29.1]  27.6 [25.2-30.1]  26.5 [23.1-29.8]\n",
       "4       Angola    22.9 [20.7-25.2]  22.1 [19.4-24.7]  23.8 [20.2-27.3]"
      ]
     },
     "execution_count": 21,
     "metadata": {},
     "output_type": "execute_result"
    }
   ],
   "source": [
    "mean_BMI_df.head()"
   ]
  },
  {
   "cell_type": "code",
   "execution_count": 22,
   "metadata": {},
   "outputs": [],
   "source": [
    "BMI_bothSex = [a.split(\" \")[0] for a in mean_BMI_df['mean_BMI_both_sexes']]\n",
    "BMI_male = [b.split(\" \")[0] for b in mean_BMI_df['mean_BMI_male']]\n",
    "BMI_female = [c.split(\" \")[0] for c in mean_BMI_df['mean_BMI_female']]\n"
   ]
  },
  {
   "cell_type": "code",
   "execution_count": 38,
   "metadata": {},
   "outputs": [
    {
     "name": "stdout",
     "output_type": "stream",
     "text": [
      "(195, 4)\n",
      "(191, 4)\n"
     ]
    }
   ],
   "source": [
    "meanBMI_cleaned = pd.DataFrame({\"Country\": mean_BMI_df['Country'],\n",
    "                               \"BMI_bothSexes\":BMI_bothSex,\n",
    "                               \"BMI_male\":BMI_male,\n",
    "                               \"BMI_female\":BMI_female})\n",
    "print(meanBMI_cleaned.shape)\n",
    "# Delete rows with no data\n",
    "meanBMI_cleaned = meanBMI_cleaned[~meanBMI_cleaned[\"BMI_bothSexes\"].isin(['No'])]\n",
    "\n",
    "# check if changes are made\n",
    "print(meanBMI_cleaned.shape)"
   ]
  },
  {
   "cell_type": "code",
   "execution_count": 43,
   "metadata": {},
   "outputs": [],
   "source": [
    "# change data types from object to floats\n",
    "meanBMI_cleaned[\"BMI_bothSexes\"] = meanBMI_cleaned[\"BMI_bothSexes\"].astype(\"float\")\n",
    "meanBMI_cleaned[\"BMI_male\"] = meanBMI_cleaned[\"BMI_male\"].astype(\"float\")\n",
    "meanBMI_cleaned[\"BMI_female\"] = meanBMI_cleaned[\"BMI_female\"].astype(\"float\")"
   ]
  },
  {
   "cell_type": "markdown",
   "metadata": {},
   "source": [
    "# meanBMI cleaned"
   ]
  },
  {
   "cell_type": "code",
   "execution_count": 45,
   "metadata": {},
   "outputs": [
    {
     "name": "stdout",
     "output_type": "stream",
     "text": [
      "Country           object\n",
      "BMI_bothSexes    float64\n",
      "BMI_male         float64\n",
      "BMI_female       float64\n",
      "dtype: object\n"
     ]
    },
    {
     "data": {
      "text/html": [
       "<div>\n",
       "<style scoped>\n",
       "    .dataframe tbody tr th:only-of-type {\n",
       "        vertical-align: middle;\n",
       "    }\n",
       "\n",
       "    .dataframe tbody tr th {\n",
       "        vertical-align: top;\n",
       "    }\n",
       "\n",
       "    .dataframe thead th {\n",
       "        text-align: right;\n",
       "    }\n",
       "</style>\n",
       "<table border=\"1\" class=\"dataframe\">\n",
       "  <thead>\n",
       "    <tr style=\"text-align: right;\">\n",
       "      <th></th>\n",
       "      <th>Country</th>\n",
       "      <th>BMI_bothSexes</th>\n",
       "      <th>BMI_male</th>\n",
       "      <th>BMI_female</th>\n",
       "    </tr>\n",
       "  </thead>\n",
       "  <tbody>\n",
       "    <tr>\n",
       "      <th>0</th>\n",
       "      <td>Afghanistan</td>\n",
       "      <td>22.9</td>\n",
       "      <td>22.3</td>\n",
       "      <td>23.6</td>\n",
       "    </tr>\n",
       "    <tr>\n",
       "      <th>1</th>\n",
       "      <td>Albania</td>\n",
       "      <td>26.7</td>\n",
       "      <td>26.9</td>\n",
       "      <td>26.4</td>\n",
       "    </tr>\n",
       "    <tr>\n",
       "      <th>2</th>\n",
       "      <td>Algeria</td>\n",
       "      <td>25.5</td>\n",
       "      <td>24.6</td>\n",
       "      <td>26.4</td>\n",
       "    </tr>\n",
       "    <tr>\n",
       "      <th>3</th>\n",
       "      <td>Andorra</td>\n",
       "      <td>27.0</td>\n",
       "      <td>27.6</td>\n",
       "      <td>26.5</td>\n",
       "    </tr>\n",
       "    <tr>\n",
       "      <th>4</th>\n",
       "      <td>Angola</td>\n",
       "      <td>22.9</td>\n",
       "      <td>22.1</td>\n",
       "      <td>23.8</td>\n",
       "    </tr>\n",
       "  </tbody>\n",
       "</table>\n",
       "</div>"
      ],
      "text/plain": [
       "       Country  BMI_bothSexes  BMI_male  BMI_female\n",
       "0  Afghanistan           22.9      22.3        23.6\n",
       "1      Albania           26.7      26.9        26.4\n",
       "2      Algeria           25.5      24.6        26.4\n",
       "3      Andorra           27.0      27.6        26.5\n",
       "4       Angola           22.9      22.1        23.8"
      ]
     },
     "execution_count": 45,
     "metadata": {},
     "output_type": "execute_result"
    }
   ],
   "source": [
    "print(meanBMI_cleaned.dtypes)\n",
    "meanBMI_cleaned.head()"
   ]
  },
  {
   "cell_type": "code",
   "execution_count": null,
   "metadata": {},
   "outputs": [],
   "source": []
  },
  {
   "cell_type": "code",
   "execution_count": 47,
   "metadata": {},
   "outputs": [],
   "source": [
    "depression_columnNames = ['Country','Estimated_depression']\n",
    "depression.columns = depression_columnNames"
   ]
  },
  {
   "cell_type": "code",
   "execution_count": 49,
   "metadata": {},
   "outputs": [],
   "source": [
    "depression.drop([0], axis=0,inplace=True)"
   ]
  },
  {
   "cell_type": "code",
   "execution_count": 51,
   "metadata": {},
   "outputs": [],
   "source": [
    "depression = depression.reset_index()"
   ]
  },
  {
   "cell_type": "code",
   "execution_count": 52,
   "metadata": {},
   "outputs": [],
   "source": [
    "depression.drop(['index'],axis=1,inplace=True)"
   ]
  },
  {
   "cell_type": "markdown",
   "metadata": {},
   "source": [
    "# Depression Cleaned"
   ]
  },
  {
   "cell_type": "code",
   "execution_count": 54,
   "metadata": {},
   "outputs": [],
   "source": [
    "depression_df = depression"
   ]
  },
  {
   "cell_type": "code",
   "execution_count": 56,
   "metadata": {},
   "outputs": [
    {
     "data": {
      "text/html": [
       "<div>\n",
       "<style scoped>\n",
       "    .dataframe tbody tr th:only-of-type {\n",
       "        vertical-align: middle;\n",
       "    }\n",
       "\n",
       "    .dataframe tbody tr th {\n",
       "        vertical-align: top;\n",
       "    }\n",
       "\n",
       "    .dataframe thead th {\n",
       "        text-align: right;\n",
       "    }\n",
       "</style>\n",
       "<table border=\"1\" class=\"dataframe\">\n",
       "  <thead>\n",
       "    <tr style=\"text-align: right;\">\n",
       "      <th></th>\n",
       "      <th>Country</th>\n",
       "      <th>Estimated_depression</th>\n",
       "    </tr>\n",
       "  </thead>\n",
       "  <tbody>\n",
       "    <tr>\n",
       "      <th>0</th>\n",
       "      <td>Afghanistan</td>\n",
       "      <td>3.3</td>\n",
       "    </tr>\n",
       "    <tr>\n",
       "      <th>1</th>\n",
       "      <td>Albania</td>\n",
       "      <td>4.8</td>\n",
       "    </tr>\n",
       "    <tr>\n",
       "      <th>2</th>\n",
       "      <td>Algeria</td>\n",
       "      <td>4.5</td>\n",
       "    </tr>\n",
       "    <tr>\n",
       "      <th>3</th>\n",
       "      <td>Angola</td>\n",
       "      <td>3.6</td>\n",
       "    </tr>\n",
       "    <tr>\n",
       "      <th>4</th>\n",
       "      <td>Antigua and Barbuda</td>\n",
       "      <td>5.1</td>\n",
       "    </tr>\n",
       "  </tbody>\n",
       "</table>\n",
       "</div>"
      ],
      "text/plain": [
       "               Country  Estimated_depression\n",
       "0          Afghanistan                   3.3\n",
       "1              Albania                   4.8\n",
       "2              Algeria                   4.5\n",
       "3               Angola                   3.6\n",
       "4  Antigua and Barbuda                   5.1"
      ]
     },
     "execution_count": 56,
     "metadata": {},
     "output_type": "execute_result"
    }
   ],
   "source": [
    "depression_df.head()"
   ]
  },
  {
   "cell_type": "code",
   "execution_count": 57,
   "metadata": {},
   "outputs": [],
   "source": [
    "# concat the two datasets\n",
    "depression_BMI = pd.concat([depression_df, meanBMI_cleaned])"
   ]
  },
  {
   "cell_type": "code",
   "execution_count": 93,
   "metadata": {},
   "outputs": [],
   "source": [
    "# group by country\n",
    "Country_group = depression_BMI.groupby(['Country']).sum()"
   ]
  },
  {
   "cell_type": "code",
   "execution_count": 59,
   "metadata": {},
   "outputs": [
    {
     "data": {
      "text/html": [
       "<div>\n",
       "<style scoped>\n",
       "    .dataframe tbody tr th:only-of-type {\n",
       "        vertical-align: middle;\n",
       "    }\n",
       "\n",
       "    .dataframe tbody tr th {\n",
       "        vertical-align: top;\n",
       "    }\n",
       "\n",
       "    .dataframe thead th {\n",
       "        text-align: right;\n",
       "    }\n",
       "</style>\n",
       "<table border=\"1\" class=\"dataframe\">\n",
       "  <thead>\n",
       "    <tr style=\"text-align: right;\">\n",
       "      <th></th>\n",
       "      <th>Estimated_depression</th>\n",
       "      <th>BMI_bothSexes</th>\n",
       "      <th>BMI_male</th>\n",
       "      <th>BMI_female</th>\n",
       "    </tr>\n",
       "    <tr>\n",
       "      <th>Country</th>\n",
       "      <th></th>\n",
       "      <th></th>\n",
       "      <th></th>\n",
       "      <th></th>\n",
       "    </tr>\n",
       "  </thead>\n",
       "  <tbody>\n",
       "    <tr>\n",
       "      <th>Afghanistan</th>\n",
       "      <td>3.3</td>\n",
       "      <td>22.9</td>\n",
       "      <td>22.3</td>\n",
       "      <td>23.6</td>\n",
       "    </tr>\n",
       "    <tr>\n",
       "      <th>Albania</th>\n",
       "      <td>4.8</td>\n",
       "      <td>26.7</td>\n",
       "      <td>26.9</td>\n",
       "      <td>26.4</td>\n",
       "    </tr>\n",
       "    <tr>\n",
       "      <th>Algeria</th>\n",
       "      <td>4.5</td>\n",
       "      <td>25.5</td>\n",
       "      <td>24.6</td>\n",
       "      <td>26.4</td>\n",
       "    </tr>\n",
       "    <tr>\n",
       "      <th>Andorra</th>\n",
       "      <td>0.0</td>\n",
       "      <td>27.0</td>\n",
       "      <td>27.6</td>\n",
       "      <td>26.5</td>\n",
       "    </tr>\n",
       "    <tr>\n",
       "      <th>Angola</th>\n",
       "      <td>3.6</td>\n",
       "      <td>22.9</td>\n",
       "      <td>22.1</td>\n",
       "      <td>23.8</td>\n",
       "    </tr>\n",
       "  </tbody>\n",
       "</table>\n",
       "</div>"
      ],
      "text/plain": [
       "             Estimated_depression  BMI_bothSexes  BMI_male  BMI_female\n",
       "Country                                                               \n",
       "Afghanistan                   3.3           22.9      22.3        23.6\n",
       "Albania                       4.8           26.7      26.9        26.4\n",
       "Algeria                       4.5           25.5      24.6        26.4\n",
       "Andorra                       0.0           27.0      27.6        26.5\n",
       "Angola                        3.6           22.9      22.1        23.8"
      ]
     },
     "execution_count": 59,
     "metadata": {},
     "output_type": "execute_result"
    }
   ],
   "source": [
    "Country_group.head()"
   ]
  },
  {
   "cell_type": "code",
   "execution_count": 119,
   "metadata": {},
   "outputs": [],
   "source": [
    "not_in_BMI= Country_group.loc[Country_group['BMI_bothSexes'] == 0,:].index\n",
    "not_in_depression = Country_group.loc[Country_group['Estimated_depression']==0,:].index"
   ]
  },
  {
   "cell_type": "code",
   "execution_count": 120,
   "metadata": {},
   "outputs": [],
   "source": [
    "# Drop null data\n",
    "zero_data = not_in_BMI.append(not_in_depression)\n",
    "Country_group.drop(zero_data, axis=0,inplace=True)"
   ]
  },
  {
   "cell_type": "code",
   "execution_count": 121,
   "metadata": {},
   "outputs": [
    {
     "data": {
      "image/png": "[encoded data removed]",
      "text/plain": [
       "<Figure size 1080x864 with 1 Axes>"
      ]
     },
     "metadata": {},
     "output_type": "display_data"
    }
   ],
   "source": [
    "width=15\n",
    "height = 12\n",
    "plt.figure(figsize = (width,height))\n",
    "sns.regplot(x='Estimated_depression', y='BMI_bothSexes', data=Country_group)\n",
    "plt.xlabel('Prevalence of Depression (%)')\n",
    "plt.ylabel(\"Total Mean BMI\")\n",
    "\n",
    "plt.show()"
   ]
  },
  {
   "cell_type": "markdown",
   "metadata": {},
   "source": [
    "This plot shows the relationship between Prevalence of Depression (predictor variable) and the Mean BMI for each country, which is our target variable. We chose our target variable to be the mean BMI because this would be the outcome we are trying to predict. \n",
    "\n",
    "From this scatterplot, we can see that as the Prevalence of Depression increases, the mean BMI increases as well. This scatterplot gives as an initial indication that there is a positive linear relationship between depression levels and BMI ratings.  "
   ]
  },
  {
   "cell_type": "code",
   "execution_count": 75,
   "metadata": {},
   "outputs": [
    {
     "data": {
      "text/html": [
       "<div>\n",
       "<style scoped>\n",
       "    .dataframe tbody tr th:only-of-type {\n",
       "        vertical-align: middle;\n",
       "    }\n",
       "\n",
       "    .dataframe tbody tr th {\n",
       "        vertical-align: top;\n",
       "    }\n",
       "\n",
       "    .dataframe thead th {\n",
       "        text-align: right;\n",
       "    }\n",
       "</style>\n",
       "<table border=\"1\" class=\"dataframe\">\n",
       "  <thead>\n",
       "    <tr style=\"text-align: right;\">\n",
       "      <th></th>\n",
       "      <th>Estimated_depression</th>\n",
       "      <th>BMI_bothSexes</th>\n",
       "      <th>BMI_male</th>\n",
       "      <th>BMI_female</th>\n",
       "    </tr>\n",
       "  </thead>\n",
       "  <tbody>\n",
       "    <tr>\n",
       "      <th>Estimated_depression</th>\n",
       "      <td>1.000000</td>\n",
       "      <td>0.406371</td>\n",
       "      <td>0.485215</td>\n",
       "      <td>0.294962</td>\n",
       "    </tr>\n",
       "    <tr>\n",
       "      <th>BMI_bothSexes</th>\n",
       "      <td>0.406371</td>\n",
       "      <td>1.000000</td>\n",
       "      <td>0.956656</td>\n",
       "      <td>0.958639</td>\n",
       "    </tr>\n",
       "    <tr>\n",
       "      <th>BMI_male</th>\n",
       "      <td>0.485215</td>\n",
       "      <td>0.956656</td>\n",
       "      <td>1.000000</td>\n",
       "      <td>0.834904</td>\n",
       "    </tr>\n",
       "    <tr>\n",
       "      <th>BMI_female</th>\n",
       "      <td>0.294962</td>\n",
       "      <td>0.958639</td>\n",
       "      <td>0.834904</td>\n",
       "      <td>1.000000</td>\n",
       "    </tr>\n",
       "  </tbody>\n",
       "</table>\n",
       "</div>"
      ],
      "text/plain": [
       "                      Estimated_depression  BMI_bothSexes  BMI_male  \\\n",
       "Estimated_depression              1.000000       0.406371  0.485215   \n",
       "BMI_bothSexes                     0.406371       1.000000  0.956656   \n",
       "BMI_male                          0.485215       0.956656  1.000000   \n",
       "BMI_female                        0.294962       0.958639  0.834904   \n",
       "\n",
       "                      BMI_female  \n",
       "Estimated_depression    0.294962  \n",
       "BMI_bothSexes           0.958639  \n",
       "BMI_male                0.834904  \n",
       "BMI_female              1.000000  "
      ]
     },
     "execution_count": 75,
     "metadata": {},
     "output_type": "execute_result"
    }
   ],
   "source": [
    "Country_group.corr()"
   ]
  },
  {
   "cell_type": "code",
   "execution_count": 82,
   "metadata": {},
   "outputs": [],
   "source": [
    "from scipy import stats"
   ]
  },
  {
   "cell_type": "code",
   "execution_count": 83,
   "metadata": {},
   "outputs": [
    {
     "name": "stdout",
     "output_type": "stream",
     "text": [
      "The p value is 1.3776380463975736e-08 and the pearson coefficient is 0.406\n"
     ]
    }
   ],
   "source": [
    "pearson_coef, p_value = stats.pearsonr(Country_group['Estimated_depression'],Country_group['BMI_bothSexes'])\n",
    "print(f\"The p value is {p_value} and the pearson coefficient is {round(pearson_coef,3)}\")"
   ]
  },
  {
   "cell_type": "markdown",
   "metadata": {},
   "source": [
    "The p-value is less than 0.001 which means there is strong evidence that the correlation between depression percentage and the mean BMI is statistically significant.\n",
    "\n",
    "The pearson coefficient is at around 0.406 which represents a moderately weak positive relationship. We can say that the percentage of prevalence of depression can potentially be a good predictor of the average BMIs of a country.\n",
    "\n",
    "We can also see that with the positive correlation, if estimated depression increases, BMI of both sexes also increases"
   ]
  },
  {
   "cell_type": "markdown",
   "metadata": {},
   "source": [
    "# Bins"
   ]
  },
  {
   "cell_type": "code",
   "execution_count": 84,
   "metadata": {},
   "outputs": [],
   "source": [
    "bins = np.linspace(min(Country_group['Estimated_depression']),max(Country_group['Estimated_depression']),4)"
   ]
  },
  {
   "cell_type": "markdown",
   "metadata": {},
   "source": [
    "Our dataset for \"Estimated_depression\"] has values ranging from 2.9% to 6.3% with 31 unique values. With this analysis, we want to find out the BMI difference between Countries with higher, medium, and lower depression percentages and to do that, we sliced our dataset into 3 bins of equal size using numpy's linspace function"
   ]
  },
  {
   "cell_type": "code",
   "execution_count": 95,
   "metadata": {},
   "outputs": [
    {
     "data": {
      "text/html": [
       "<div>\n",
       "<style scoped>\n",
       "    .dataframe tbody tr th:only-of-type {\n",
       "        vertical-align: middle;\n",
       "    }\n",
       "\n",
       "    .dataframe tbody tr th {\n",
       "        vertical-align: top;\n",
       "    }\n",
       "\n",
       "    .dataframe thead th {\n",
       "        text-align: right;\n",
       "    }\n",
       "</style>\n",
       "<table border=\"1\" class=\"dataframe\">\n",
       "  <thead>\n",
       "    <tr style=\"text-align: right;\">\n",
       "      <th></th>\n",
       "      <th>Estimated_depression</th>\n",
       "      <th>BMI_bothSexes</th>\n",
       "      <th>BMI_male</th>\n",
       "      <th>BMI_female</th>\n",
       "      <th>depressionBins</th>\n",
       "    </tr>\n",
       "    <tr>\n",
       "      <th>Country</th>\n",
       "      <th></th>\n",
       "      <th></th>\n",
       "      <th></th>\n",
       "      <th></th>\n",
       "      <th></th>\n",
       "    </tr>\n",
       "  </thead>\n",
       "  <tbody>\n",
       "    <tr>\n",
       "      <th>Afghanistan</th>\n",
       "      <td>3.3</td>\n",
       "      <td>22.9</td>\n",
       "      <td>22.3</td>\n",
       "      <td>23.6</td>\n",
       "      <td>Low</td>\n",
       "    </tr>\n",
       "    <tr>\n",
       "      <th>Albania</th>\n",
       "      <td>4.8</td>\n",
       "      <td>26.7</td>\n",
       "      <td>26.9</td>\n",
       "      <td>26.4</td>\n",
       "      <td>Medium</td>\n",
       "    </tr>\n",
       "    <tr>\n",
       "      <th>Algeria</th>\n",
       "      <td>4.5</td>\n",
       "      <td>25.5</td>\n",
       "      <td>24.6</td>\n",
       "      <td>26.4</td>\n",
       "      <td>Medium</td>\n",
       "    </tr>\n",
       "    <tr>\n",
       "      <th>Andorra</th>\n",
       "      <td>0.0</td>\n",
       "      <td>27.0</td>\n",
       "      <td>27.6</td>\n",
       "      <td>26.5</td>\n",
       "      <td>NaN</td>\n",
       "    </tr>\n",
       "    <tr>\n",
       "      <th>Angola</th>\n",
       "      <td>3.6</td>\n",
       "      <td>22.9</td>\n",
       "      <td>22.1</td>\n",
       "      <td>23.8</td>\n",
       "      <td>Low</td>\n",
       "    </tr>\n",
       "  </tbody>\n",
       "</table>\n",
       "</div>"
      ],
      "text/plain": [
       "             Estimated_depression  BMI_bothSexes  BMI_male  BMI_female  \\\n",
       "Country                                                                  \n",
       "Afghanistan                   3.3           22.9      22.3        23.6   \n",
       "Albania                       4.8           26.7      26.9        26.4   \n",
       "Algeria                       4.5           25.5      24.6        26.4   \n",
       "Andorra                       0.0           27.0      27.6        26.5   \n",
       "Angola                        3.6           22.9      22.1        23.8   \n",
       "\n",
       "            depressionBins  \n",
       "Country                     \n",
       "Afghanistan            Low  \n",
       "Albania             Medium  \n",
       "Algeria             Medium  \n",
       "Andorra                NaN  \n",
       "Angola                 Low  "
      ]
     },
     "execution_count": 95,
     "metadata": {},
     "output_type": "execute_result"
    }
   ],
   "source": [
    "# Set group names\n",
    "BMIGroup_names = ['Low', \"Medium\", 'High']\n",
    "\n",
    "Country_group['depressionBins'] = pd.cut(Country_group['Estimated_depression'],bins,labels=BMIGroup_names,include_lowest=True)\n",
    "Country_group.head()"
   ]
  },
  {
   "cell_type": "code",
   "execution_count": 97,
   "metadata": {},
   "outputs": [],
   "source": [
    "Country_group = Country_group[['Estimated_depression', \"depressionBins\" ,'BMI_bothSexes','BMI_male','BMI_female']]"
   ]
  },
  {
   "cell_type": "code",
   "execution_count": 108,
   "metadata": {},
   "outputs": [
    {
     "data": {
      "text/plain": [
       "Low        54\n",
       "Medium    107\n",
       "High       22\n",
       "Name: depressionBins, dtype: int64"
      ]
     },
     "execution_count": 108,
     "metadata": {},
     "output_type": "execute_result"
    }
   ],
   "source": [
    "# Check the number of countries placed in each bins\n",
    "Country_group['depressionBins'].value_counts(sort = False)"
   ]
  },
  {
   "cell_type": "markdown",
   "metadata": {},
   "source": [
    "Looking at the value counts of the"
   ]
  },
  {
   "cell_type": "code",
   "execution_count": 111,
   "metadata": {},
   "outputs": [
    {
     "data": {
      "text/plain": [
       "Text(0, 0.5, 'Count')"
      ]
     },
     "execution_count": 111,
     "metadata": {},
     "output_type": "execute_result"
    },
    {
     "data": {
      "image/png": "[encoded data removed]",
      "text/plain": [
       "<Figure size 432x288 with 1 Axes>"
      ]
     },
     "metadata": {},
     "output_type": "display_data"
    }
   ],
   "source": [
    "sns.set(style=\"ticks\")\n",
    "ax = sns.barplot(BMIGroup_names, Country_group['depressionBins'].value_counts(sort=False))\n",
    "\n",
    "# Set labels and title\n",
    "ax.set_title(\"depression bins\")\n",
    "ax.set_xlabel(\"Estimated Depression\")\n",
    "ax.set_ylabel(\"Count\")"
   ]
  },
  {
   "cell_type": "code",
   "execution_count": null,
   "metadata": {},
   "outputs": [],
   "source": []
  },
  {
   "cell_type": "code",
   "execution_count": 122,
   "metadata": {},
   "outputs": [
    {
     "data": {
      "text/plain": [
       "<matplotlib.axes._subplots.AxesSubplot at 0x1a6c266f7c8>"
      ]
     },
     "execution_count": 122,
     "metadata": {},
     "output_type": "execute_result"
    },
    {
     "data": {
      "image/png": "[encoded data removed]",
      "text/plain": [
       "<Figure size 1080x864 with 1 Axes>"
      ]
     },
     "metadata": {},
     "output_type": "display_data"
    }
   ],
   "source": [
    "width=15\n",
    "height = 12\n",
    "plt.figure(figsize = (width,height))\n",
    "sns.boxplot(x= 'depressionBins', y='BMI_female',data=Country_group)"
   ]
  },
  {
   "cell_type": "code",
   "execution_count": 149,
   "metadata": {},
   "outputs": [],
   "source": [
    "Country_group_cat = Country_group[['depressionBins','BMI_bothSexes','BMI_male','BMI_female']]"
   ]
  },
  {
   "cell_type": "code",
   "execution_count": 150,
   "metadata": {},
   "outputs": [],
   "source": [
    "Country_group_cat = Country_group_cat.reset_index()\n"
   ]
  },
  {
   "cell_type": "code",
   "execution_count": 152,
   "metadata": {},
   "outputs": [],
   "source": [
    "Country_group_cat.drop(['Country'],axis=1,inplace=True)"
   ]
  },
  {
   "cell_type": "code",
   "execution_count": 153,
   "metadata": {},
   "outputs": [
    {
     "data": {
      "text/html": [
       "<div>\n",
       "<style scoped>\n",
       "    .dataframe tbody tr th:only-of-type {\n",
       "        vertical-align: middle;\n",
       "    }\n",
       "\n",
       "    .dataframe tbody tr th {\n",
       "        vertical-align: top;\n",
       "    }\n",
       "\n",
       "    .dataframe thead th {\n",
       "        text-align: right;\n",
       "    }\n",
       "</style>\n",
       "<table border=\"1\" class=\"dataframe\">\n",
       "  <thead>\n",
       "    <tr style=\"text-align: right;\">\n",
       "      <th></th>\n",
       "      <th>BMI_bothSexes</th>\n",
       "      <th>BMI_male</th>\n",
       "      <th>BMI_female</th>\n",
       "    </tr>\n",
       "    <tr>\n",
       "      <th>depressionBins</th>\n",
       "      <th></th>\n",
       "      <th></th>\n",
       "      <th></th>\n",
       "    </tr>\n",
       "  </thead>\n",
       "  <tbody>\n",
       "    <tr>\n",
       "      <th>Low</th>\n",
       "      <td>24.505660</td>\n",
       "      <td>23.839623</td>\n",
       "      <td>25.173585</td>\n",
       "    </tr>\n",
       "    <tr>\n",
       "      <th>Medium</th>\n",
       "      <td>25.813208</td>\n",
       "      <td>25.468868</td>\n",
       "      <td>26.170755</td>\n",
       "    </tr>\n",
       "    <tr>\n",
       "      <th>High</th>\n",
       "      <td>27.181818</td>\n",
       "      <td>27.068182</td>\n",
       "      <td>27.290909</td>\n",
       "    </tr>\n",
       "  </tbody>\n",
       "</table>\n",
       "</div>"
      ],
      "text/plain": [
       "                BMI_bothSexes   BMI_male  BMI_female\n",
       "depressionBins                                      \n",
       "Low                 24.505660  23.839623   25.173585\n",
       "Medium              25.813208  25.468868   26.170755\n",
       "High                27.181818  27.068182   27.290909"
      ]
     },
     "execution_count": 153,
     "metadata": {},
     "output_type": "execute_result"
    }
   ],
   "source": [
    "Country_group_cat.groupby(['depressionBins']).mean()"
   ]
  },
  {
   "cell_type": "markdown",
   "metadata": {},
   "source": [
    "From this data, we can see that depression levels that are classified as \"High\", on average, have the highest BMI ratings while \"Medium\" and \"Low\" have the second highest and lowest respectively.\n",
    "\n",
    "This helps us understand that countries that have a higher percentage of prevalance of depression tend to have higher BMI averages within their populations.  "
   ]
  },
  {
   "cell_type": "code",
   "execution_count": null,
   "metadata": {},
   "outputs": [],
   "source": []
  },
  {
   "cell_type": "markdown",
   "metadata": {},
   "source": [
    "# ANOVA \n",
    "We will only look at BMI_bothSexes in this analysis\n",
    "We will be using the ANOVA test to clarify the correlation between the different categories of depression levels we created earlier with \"depressionBins\". This test will return the F-test score and the p-value, with the F-test score describing the ratio of variation between the groups' mean over the variation within each of the sample groups. \n",
    "\n",
    "Our hypothesis is that depression does contribute to obesity and we perform an ANOVA test to prove the accuracy of the hypothesis."
   ]
  },
  {
   "cell_type": "code",
   "execution_count": 154,
   "metadata": {},
   "outputs": [],
   "source": [
    "grouped_anova_test = Country_group[['depressionBins','BMI_bothSexes']].groupby(['depressionBins'])"
   ]
  },
  {
   "cell_type": "code",
   "execution_count": 156,
   "metadata": {},
   "outputs": [
    {
     "data": {
      "text/plain": [
       "depressionBins\n",
       "Low       24.505660\n",
       "Medium    25.813208\n",
       "High      27.181818\n",
       "Name: BMI_bothSexes, dtype: float64"
      ]
     },
     "execution_count": 156,
     "metadata": {},
     "output_type": "execute_result"
    }
   ],
   "source": [
    "grouped_anova_test.mean()['BMI_bothSexes']"
   ]
  },
  {
   "cell_type": "code",
   "execution_count": 157,
   "metadata": {},
   "outputs": [
    {
     "data": {
      "text/html": [
       "<div>\n",
       "<style scoped>\n",
       "    .dataframe tbody tr th:only-of-type {\n",
       "        vertical-align: middle;\n",
       "    }\n",
       "\n",
       "    .dataframe tbody tr th {\n",
       "        vertical-align: top;\n",
       "    }\n",
       "\n",
       "    .dataframe thead th {\n",
       "        text-align: right;\n",
       "    }\n",
       "</style>\n",
       "<table border=\"1\" class=\"dataframe\">\n",
       "  <thead>\n",
       "    <tr style=\"text-align: right;\">\n",
       "      <th></th>\n",
       "      <th>Estimated_depression</th>\n",
       "      <th>depressionBins</th>\n",
       "      <th>BMI_bothSexes</th>\n",
       "      <th>BMI_male</th>\n",
       "      <th>BMI_female</th>\n",
       "      <th>poopybins</th>\n",
       "    </tr>\n",
       "    <tr>\n",
       "      <th>Country</th>\n",
       "      <th></th>\n",
       "      <th></th>\n",
       "      <th></th>\n",
       "      <th></th>\n",
       "      <th></th>\n",
       "      <th></th>\n",
       "    </tr>\n",
       "  </thead>\n",
       "  <tbody>\n",
       "    <tr>\n",
       "      <th>Afghanistan</th>\n",
       "      <td>3.3</td>\n",
       "      <td>Low</td>\n",
       "      <td>22.9</td>\n",
       "      <td>22.3</td>\n",
       "      <td>23.6</td>\n",
       "      <td>ye</td>\n",
       "    </tr>\n",
       "    <tr>\n",
       "      <th>Albania</th>\n",
       "      <td>4.8</td>\n",
       "      <td>Medium</td>\n",
       "      <td>26.7</td>\n",
       "      <td>26.9</td>\n",
       "      <td>26.4</td>\n",
       "      <td>ya</td>\n",
       "    </tr>\n",
       "    <tr>\n",
       "      <th>Algeria</th>\n",
       "      <td>4.5</td>\n",
       "      <td>Medium</td>\n",
       "      <td>25.5</td>\n",
       "      <td>24.6</td>\n",
       "      <td>26.4</td>\n",
       "      <td>yo</td>\n",
       "    </tr>\n",
       "    <tr>\n",
       "      <th>Angola</th>\n",
       "      <td>3.6</td>\n",
       "      <td>Low</td>\n",
       "      <td>22.9</td>\n",
       "      <td>22.1</td>\n",
       "      <td>23.8</td>\n",
       "      <td>ye</td>\n",
       "    </tr>\n",
       "    <tr>\n",
       "      <th>Antigua and Barbuda</th>\n",
       "      <td>5.1</td>\n",
       "      <td>Medium</td>\n",
       "      <td>26.6</td>\n",
       "      <td>25.6</td>\n",
       "      <td>27.7</td>\n",
       "      <td>ya</td>\n",
       "    </tr>\n",
       "    <tr>\n",
       "      <th>Argentina</th>\n",
       "      <td>4.7</td>\n",
       "      <td>Medium</td>\n",
       "      <td>27.6</td>\n",
       "      <td>27.7</td>\n",
       "      <td>27.6</td>\n",
       "      <td>ya</td>\n",
       "    </tr>\n",
       "    <tr>\n",
       "      <th>Armenia</th>\n",
       "      <td>5.0</td>\n",
       "      <td>Medium</td>\n",
       "      <td>26.5</td>\n",
       "      <td>25.5</td>\n",
       "      <td>27.4</td>\n",
       "      <td>ya</td>\n",
       "    </tr>\n",
       "    <tr>\n",
       "      <th>Australia</th>\n",
       "      <td>5.9</td>\n",
       "      <td>High</td>\n",
       "      <td>27.4</td>\n",
       "      <td>27.7</td>\n",
       "      <td>27.0</td>\n",
       "      <td>yeet</td>\n",
       "    </tr>\n",
       "    <tr>\n",
       "      <th>Austria</th>\n",
       "      <td>5.1</td>\n",
       "      <td>Medium</td>\n",
       "      <td>26.0</td>\n",
       "      <td>26.8</td>\n",
       "      <td>25.2</td>\n",
       "      <td>ya</td>\n",
       "    </tr>\n",
       "    <tr>\n",
       "      <th>Azerbaijan</th>\n",
       "      <td>4.6</td>\n",
       "      <td>Medium</td>\n",
       "      <td>26.9</td>\n",
       "      <td>26.0</td>\n",
       "      <td>27.8</td>\n",
       "      <td>yo</td>\n",
       "    </tr>\n",
       "  </tbody>\n",
       "</table>\n",
       "</div>"
      ],
      "text/plain": [
       "                     Estimated_depression depressionBins  BMI_bothSexes  \\\n",
       "Country                                                                   \n",
       "Afghanistan                           3.3            Low           22.9   \n",
       "Albania                               4.8         Medium           26.7   \n",
       "Algeria                               4.5         Medium           25.5   \n",
       "Angola                                3.6            Low           22.9   \n",
       "Antigua and Barbuda                   5.1         Medium           26.6   \n",
       "Argentina                             4.7         Medium           27.6   \n",
       "Armenia                               5.0         Medium           26.5   \n",
       "Australia                             5.9           High           27.4   \n",
       "Austria                               5.1         Medium           26.0   \n",
       "Azerbaijan                            4.6         Medium           26.9   \n",
       "\n",
       "                     BMI_male  BMI_female poopybins  \n",
       "Country                                              \n",
       "Afghanistan              22.3        23.6        ye  \n",
       "Albania                  26.9        26.4        ya  \n",
       "Algeria                  24.6        26.4        yo  \n",
       "Angola                   22.1        23.8        ye  \n",
       "Antigua and Barbuda      25.6        27.7        ya  \n",
       "Argentina                27.7        27.6        ya  \n",
       "Armenia                  25.5        27.4        ya  \n",
       "Australia                27.7        27.0      yeet  \n",
       "Austria                  26.8        25.2        ya  \n",
       "Azerbaijan               26.0        27.8        yo  "
      ]
     },
     "execution_count": 157,
     "metadata": {},
     "output_type": "execute_result"
    }
   ],
   "source": [
    "Country_group.head(10)"
   ]
  },
  {
   "cell_type": "code",
   "execution_count": 158,
   "metadata": {},
   "outputs": [
    {
     "data": {
      "text/plain": [
       "Country\n",
       "Afghanistan                              22.9\n",
       "Angola                                   22.9\n",
       "Benin                                    23.3\n",
       "Brunei Darussalam                        27.2\n",
       "Burkina Faso                             22.1\n",
       "Cambodia                                 22.0\n",
       "Cameroon                                 24.0\n",
       "Chad                                     21.5\n",
       "Congo                                    22.9\n",
       "Côte d'Ivoire                            23.6\n",
       "Democratic People's Republic of Korea    24.1\n",
       "Democratic Republic of the Congo         21.7\n",
       "Egypt                                    29.3\n",
       "Fiji                                     27.6\n",
       "Gambia                                   23.5\n",
       "Guatemala                                26.2\n",
       "Guinea                                   22.7\n",
       "Guinea-Bissau                            23.1\n",
       "Honduras                                 26.4\n",
       "Indonesia                                23.1\n",
       "Iraq                                     28.1\n",
       "Jordan                                   28.4\n",
       "Kiribati                                 30.0\n",
       "Lao People's Democratic Republic         22.6\n",
       "Liberia                                  23.9\n",
       "Malaysia                                 25.6\n",
       "Maldives                                 24.9\n",
       "Mali                                     22.8\n",
       "Micronesia (Federated States of)         29.1\n",
       "Myanmar                                  22.6\n",
       "Nepal                                    22.3\n",
       "Niger                                    21.7\n",
       "Nigeria                                  23.0\n",
       "Papua New Guinea                         25.7\n",
       "Philippines                              23.0\n",
       "Rwanda                                   22.2\n",
       "Samoa                                    31.8\n",
       "Sao Tome and Principe                    24.4\n",
       "Senegal                                  22.5\n",
       "Seychelles                               26.9\n",
       "Sierra Leone                             22.7\n",
       "Solomon Islands                          26.1\n",
       "Somalia                                  22.8\n",
       "Syrian Arab Republic                     27.7\n",
       "Tajikistan                               25.4\n",
       "Timor-Leste                              21.0\n",
       "Togo                                     23.3\n",
       "Tonga                                    31.8\n",
       "Vanuatu                                  26.0\n",
       "Viet Nam                                 21.7\n",
       "Yemen                                    23.3\n",
       "Zambia                                   22.1\n",
       "Zimbabwe                                 23.3\n",
       "Name: BMI_bothSexes, dtype: float64"
      ]
     },
     "execution_count": 158,
     "metadata": {},
     "output_type": "execute_result"
    }
   ],
   "source": [
    "# get values of method group\n",
    "grouped_anova_test.get_group(\"Low\")['BMI_bothSexes']"
   ]
  },
  {
   "cell_type": "code",
   "execution_count": 161,
   "metadata": {},
   "outputs": [
    {
     "name": "stdout",
     "output_type": "stream",
     "text": [
      "F-value = 13.736481263000515 and p-value = 2.8327839167375136e-06\n"
     ]
    }
   ],
   "source": [
    "f_val,p_val = stats.f_oneway(grouped_anova_test.get_group('Low')['BMI_bothSexes'],\\\n",
    "                             grouped_anova_test.get_group('Medium')['BMI_bothSexes'],\\\n",
    "                            grouped_anova_test.get_group('High')['BMI_bothSexes'])\n",
    "print(f\"F-value = {f_val} and p-value = {p_val}\")"
   ]
  },
  {
   "cell_type": "markdown",
   "metadata": {},
   "source": [
    "From this calculation, we can see a large F score (13.74), which means there is a large difference between the means and a certain statistical significance with a small p-value (2.83e-6)\n"
   ]
  },
  {
   "cell_type": "code",
   "execution_count": null,
   "metadata": {},
   "outputs": [],
   "source": []
  },
  {
   "cell_type": "code",
   "execution_count": null,
   "metadata": {},
   "outputs": [],
   "source": []
  },
  {
   "cell_type": "code",
   "execution_count": null,
   "metadata": {},
   "outputs": [],
   "source": []
  },
  {
   "cell_type": "code",
   "execution_count": null,
   "metadata": {},
   "outputs": [],
   "source": []
  }
 ],
 "metadata": {
  "kernelspec": {
   "display_name": "Python 3",
   "language": "python",
   "name": "python3"
  },
  "language_info": {
   "codemirror_mode": {
    "name": "ipython",
    "version": 3
   },
   "file_extension": ".py",
   "mimetype": "text/x-python",
   "name": "python",
   "nbconvert_exporter": "python",
   "pygments_lexer": "ipython3",
   "version": "3.7.4"
  }
 },
 "nbformat": 4,
 "nbformat_minor": 2
}
